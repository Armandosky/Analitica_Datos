{
  "nbformat": 4,
  "nbformat_minor": 0,
  "metadata": {
    "colab": {
      "provenance": [],
      "collapsed_sections": [
        "p2m-ckhfSfKZ",
        "9T4of4idnYYb"
      ],
      "include_colab_link": true
    },
    "kernelspec": {
      "name": "python3",
      "display_name": "Python 3"
    },
    "language_info": {
      "name": "python"
    }
  },
  "cells": [
    {
      "cell_type": "markdown",
      "metadata": {
        "id": "view-in-github",
        "colab_type": "text"
      },
      "source": [
        "<a href=\"https://colab.research.google.com/github/Armandosky/Analitica_Datos/blob/main/ParcialAD.ipynb\" target=\"_parent\"><img src=\"https://colab.research.google.com/assets/colab-badge.svg\" alt=\"Open In Colab\"/></a>"
      ]
    },
    {
      "cell_type": "markdown",
      "source": [
        "# **PARCIAL II**\n",
        "\n",
        "### Integrantes:\n",
        "*   Armando Enrique Cortés González 000430669\n",
        "\n",
        "*   Juan Sebastián Arguello Lozano  000345476\n",
        "\n",
        "\n"
      ],
      "metadata": {
        "id": "oEBn_org1vyG"
      }
    },
    {
      "cell_type": "markdown",
      "source": [
        "## *Punto 1*\n",
        "\n",
        "Realizar un algoritmo que me permita identificar el latido cardiaco en una señal ECG utilizando\n",
        "patrones (características obtenidas de segmentos de la señal) usando como método o camino para\n",
        "ello SVM. El número de características a evaluar debe ser mayor a 8, sin límite máximo de cantidad\n",
        "de ellas. Además, debe optimizar hiperparámetros para buscar mejorar el desempeño\n",
        "previamente obtenido. Deben utilizar la validación cruzada para esta parte.\n",
        "\n",
        "\n",
        "\n",
        "**NOTA 1**: Este algoritmo se realizará sin desplazamiento de una ventana deslizante. Es decir, se\n",
        "realizará dentro de un conjunto de datos, en donde este debe contener las características y la\n",
        "salida o categoría de estas características (tal como en la base de datos de cáncer).\n",
        "\n",
        "\n",
        "**NOTA 2**: Empezar con un tamaño de base de datos de más de 400.000 registros, si no alcanzan el\n",
        "desempeño objetivo pueden ir reduciendo paulatinamente esta hasta llegar a 70.000.\n",
        "\n",
        "\n",
        "Debe preparar un pequeño informe en notebook en donde se evidencia el código utilizado. Las\n",
        "diferentes pruebas, las observaciones que puede generar y algunas conclusiones de ellas."
      ],
      "metadata": {
        "id": "nyPhVLkX1ubu"
      }
    },
    {
      "cell_type": "markdown",
      "source": [
        "Para subir los datos a usar, por favor crear una carpeta en los archivos de Google Colab en la carpeta \"content\" llamada \"db\" y alojar ahí los archivos de la señal ECG.\n",
        "\n",
        "Nota: Dichos datos se pueden encontrar en https://www.physionet.org/content/nsrdb/1.0.0/"
      ],
      "metadata": {
        "id": "gFmVRUzTyZAP"
      }
    },
    {
      "cell_type": "markdown",
      "source": [
        "## **Creación del Dataset**\n",
        "\n",
        "Debido a que solo se poseen las señales ECG, hay que crear un dataset que tenga 8 características en base a los latidos obtenidos.\n",
        "\n",
        "Se solicita un mínimo de 8 características de las señales a evaluar, por lo que se decidió evaluar las siguientes:\n",
        "\n",
        "*   Media\n",
        "*   Mediana\n",
        "*   Moda\n",
        "*   Varianza\n",
        "*   Desviación Estándar\n",
        "*   Curtosis\n",
        "*   Asimetría\n",
        "*   Percentil 50\n",
        "\n",
        "\n",
        "Primero que nada, se realiza la instalación de la libreria WFDB, la cual es una librería para ver, analizar y crear grabaciones de señales fisiológicas, en este caso señales de un electrocardiograma, además de importar otras librerías.\n",
        "\n",
        "```\n",
        "#Instalación WFDB\n",
        "!pip install wfdb\n",
        "\n",
        "#Librerías\n",
        "import statistics as stats\n",
        "from scipy.stats import kurtosis\n",
        "from scipy.stats import skew\n",
        "from sklearn.model_selection import train_test_split\n",
        "from sklearn.preprocessing import StandardScaler\n",
        "from sklearn import svm\n",
        "from sklearn.svm import SVC\n",
        "from sklearn.metrics import accuracy_score, classification_report\n",
        "import pandas as pd\n",
        "import numpy as np\n",
        "import wfdb\n",
        "```\n",
        "\n"
      ],
      "metadata": {
        "id": "PU0Ep-aQeAkE"
      }
    },
    {
      "cell_type": "markdown",
      "source": [
        "A continuación, se mostrará el código usado para la creación del dataframe\n",
        "\n",
        "\n",
        "\n",
        "```\n",
        "archivos = ['16265', '16272', '16273', '16420', '16483', '16539', '16773', '16786',\n",
        "    '16795', '17052', '17453', '18177', '18184', '19088', '19090', '19093', '19140', '19830']\n",
        "n_data = 400500\n",
        "range = 20\n",
        "\n",
        "# Función moda\n",
        "\n",
        "def mode(list_data):\n",
        "  max_count = (0, 0)\n",
        "  for num in list_data:\n",
        "    occurences = list_data.count(num)\n",
        "    if occurences > max_count[0]:\n",
        "      max_count = (occurences, num)\n",
        "  return max_count[1]\n",
        "\n",
        "#Función con las 8 características \n",
        "def list_features(segmento):\n",
        "    features = []\n",
        "    media = stats.mean(segmento)\n",
        "    features.append(media)\n",
        "    mediana = stats.median(segmento)\n",
        "    features.append(mediana)\n",
        "    moda = mode(list(segmento))\n",
        "    features.append(moda)\n",
        "    varianza = stats.pvariance(segmento)\n",
        "    features.append(varianza)\n",
        "    desviacion_estandar = stats.pstdev(segmento)\n",
        "    features.append(desviacion_estandar)\n",
        "    curtosis = kurtosis(segmento)\n",
        "    features.append(curtosis)\n",
        "    asimetria = skew(segmento)\n",
        "    features.append(asimetria)\n",
        "    percentil50 = stats.median_grouped(segmento)\n",
        "    features.append(percentil50)\n",
        "    features.append(1)\n",
        "    return features\n",
        "\n",
        "columnas = {'Media':[],'Mediana':[],'Moda':[],'Varianza':[],'Desviación Estandar':[],'Curtosis':[],'Asimetría':[],'Percentil 50':[],'Output':[]}\n",
        "df = pd.DataFrame(data = columnas)\n",
        "\n",
        "for i in range(18):\n",
        "    lectura = wfdb.rdrecord('/content/db/'+archivos[i], sampto=n_data)\n",
        "    señal = lectura.p_signal\n",
        "    señal1 = señal[:, 0]\n",
        "    ann = wfdb.rdann('/content/db/'+archivos[i], 'atr', sampto=n_data)\n",
        "    ANN = ann.sample\n",
        "    for j in range(1, len(ANN)):\n",
        "        feature = señal1[ANN[j]-rango:ANN[j]+rango]\n",
        "        get_feature = list_features(list(feature))\n",
        "        newRow = {'Media':get_feature[0],'Mediana':get_feature[1],'Moda':get_feature[2],'Varianza':get_feature[3],'Desviación Estandar':get_feature[4],'Curtosis':get_feature[5],'Asimetría':get_feature[6],'Percentil 50':get_feature[7],'Output':int(get_feature[8])}\n",
        "        df = pd.concat([df, pd.DataFrame.from_records([newRow])])\n",
        "        try:\n",
        "            feature2 = señal1[ANN[j]+rango:ANN[j+1]-rango]\n",
        "            if len(feature2) > 30:\n",
        "                get_feature2 = list_features(list(feature2))\n",
        "                newRow2 = {'Media':get_feature2[0],'Mediana':get_feature2[1],'Moda':get_feature2[2],'Varianza':get_feature2[3],'Desviación Estandar':get_feature2[4],'Curtosis':get_feature2[5],'Asimetría':get_feature2[6],'Percentil 50':get_feature2[7],'Output':0}\n",
        "                df = pd.concat([df, pd.DataFrame.from_records([newRow2])])\n",
        "        except:\n",
        "            print(\"Fuera del rango\")\n",
        "\n",
        "\n",
        "```\n"
      ],
      "metadata": {
        "id": "Jy9XlMfmfk4A"
      }
    },
    {
      "cell_type": "markdown",
      "source": [
        "Luego de obtener el dataframe, se convierte este en un archivo .csv, esto para tenerlo a la mano, evitando así tener que correr todo el código una y otra vez, cosa que necesitaría mucho tiempo debido a los grandes recursos que consume.\n",
        "\n",
        "```\n",
        "print(df)\n",
        "df.to_csv('ecg.csv')\n",
        "```\n",
        "\n"
      ],
      "metadata": {
        "id": "pF2zbMDxhwYV"
      }
    },
    {
      "cell_type": "markdown",
      "source": [
        "Nota: Antes de ejecutar, por favor subir el archivo \"ecg.csv\" a Colab, el cual está alojado en la tarea enviada"
      ],
      "metadata": {
        "id": "yqho4MxOr-th"
      }
    },
    {
      "cell_type": "code",
      "source": [
        "#Librerías\n",
        "import statistics as stats\n",
        "from scipy.stats import kurtosis\n",
        "from scipy.stats import skew\n",
        "from sklearn.model_selection import train_test_split\n",
        "from sklearn.preprocessing import StandardScaler\n",
        "from sklearn import svm\n",
        "from sklearn.svm import SVC\n",
        "from sklearn.metrics import accuracy_score, classification_report\n",
        "import pandas as pd\n",
        "import numpy as np"
      ],
      "metadata": {
        "id": "7njLarAykAsb"
      },
      "execution_count": 11,
      "outputs": []
    },
    {
      "cell_type": "code",
      "source": [
        "archivo = \"ecg.csv\"\n",
        "df = pd.read_csv(archivo, engine=\"python\")"
      ],
      "metadata": {
        "id": "QdXVK0o4Espr"
      },
      "execution_count": 20,
      "outputs": []
    },
    {
      "cell_type": "code",
      "source": [
        "df"
      ],
      "metadata": {
        "colab": {
          "base_uri": "https://localhost:8080/",
          "height": 424
        },
        "id": "0ZqKoGcMnQ_U",
        "outputId": "25f95497-4fc0-4bb8-ebcc-6de8d17d1859"
      },
      "execution_count": 21,
      "outputs": [
        {
          "output_type": "execute_result",
          "data": {
            "text/plain": [
              "           Media  Mediana   Moda  Varianza  Desviación Estandar   Curtosis  \\\n",
              "0       0.042250   -0.190 -0.215  0.617760             0.785977   5.273880   \n",
              "1      -0.135541   -0.135 -0.115  0.000789             0.028087  -0.139779   \n",
              "2       0.060750   -0.180 -0.275  0.641839             0.801149   5.902141   \n",
              "3      -0.121579   -0.115 -0.105  0.000801             0.028310   0.521682   \n",
              "4       0.071750   -0.160 -0.155  0.648602             0.805358   5.303545   \n",
              "...          ...      ...    ...       ...                  ...        ...   \n",
              "295121  0.282500    0.270  0.445  0.064134             0.253246   1.320492   \n",
              "295122 -0.388750   -0.460 -0.595  0.069388             0.263417   3.772974   \n",
              "295123 -0.776750   -0.800 -0.645  0.061369             0.247729   4.824382   \n",
              "295124 -0.979750   -1.045 -1.135  0.044720             0.211471   6.164108   \n",
              "295125 -0.899750   -0.970 -1.015  0.054825             0.234147  10.263344   \n",
              "\n",
              "        Asimetría  Percentil 50  Output  \n",
              "0        2.519110     -0.685000     1.0  \n",
              "1        0.267538     -0.051667     0.0  \n",
              "2        2.615740     -0.675000     1.0  \n",
              "3       -1.184300      0.085000     0.0  \n",
              "4        2.520852     -0.655000     1.0  \n",
              "...           ...           ...     ...  \n",
              "295121   0.959239     -0.215000     1.0  \n",
              "295122   1.723137     -0.945000     1.0  \n",
              "295123   1.899111     -1.295000     1.0  \n",
              "295124   2.367984     -1.535000     1.0  \n",
              "295125   3.101492     -1.465000     1.0  \n",
              "\n",
              "[295126 rows x 9 columns]"
            ],
            "text/html": [
              "\n",
              "  <div id=\"df-73bf715a-1594-4b35-bc2a-817ae8f480b7\">\n",
              "    <div class=\"colab-df-container\">\n",
              "      <div>\n",
              "<style scoped>\n",
              "    .dataframe tbody tr th:only-of-type {\n",
              "        vertical-align: middle;\n",
              "    }\n",
              "\n",
              "    .dataframe tbody tr th {\n",
              "        vertical-align: top;\n",
              "    }\n",
              "\n",
              "    .dataframe thead th {\n",
              "        text-align: right;\n",
              "    }\n",
              "</style>\n",
              "<table border=\"1\" class=\"dataframe\">\n",
              "  <thead>\n",
              "    <tr style=\"text-align: right;\">\n",
              "      <th></th>\n",
              "      <th>Media</th>\n",
              "      <th>Mediana</th>\n",
              "      <th>Moda</th>\n",
              "      <th>Varianza</th>\n",
              "      <th>Desviación Estandar</th>\n",
              "      <th>Curtosis</th>\n",
              "      <th>Asimetría</th>\n",
              "      <th>Percentil 50</th>\n",
              "      <th>Output</th>\n",
              "    </tr>\n",
              "  </thead>\n",
              "  <tbody>\n",
              "    <tr>\n",
              "      <th>0</th>\n",
              "      <td>0.042250</td>\n",
              "      <td>-0.190</td>\n",
              "      <td>-0.215</td>\n",
              "      <td>0.617760</td>\n",
              "      <td>0.785977</td>\n",
              "      <td>5.273880</td>\n",
              "      <td>2.519110</td>\n",
              "      <td>-0.685000</td>\n",
              "      <td>1.0</td>\n",
              "    </tr>\n",
              "    <tr>\n",
              "      <th>1</th>\n",
              "      <td>-0.135541</td>\n",
              "      <td>-0.135</td>\n",
              "      <td>-0.115</td>\n",
              "      <td>0.000789</td>\n",
              "      <td>0.028087</td>\n",
              "      <td>-0.139779</td>\n",
              "      <td>0.267538</td>\n",
              "      <td>-0.051667</td>\n",
              "      <td>0.0</td>\n",
              "    </tr>\n",
              "    <tr>\n",
              "      <th>2</th>\n",
              "      <td>0.060750</td>\n",
              "      <td>-0.180</td>\n",
              "      <td>-0.275</td>\n",
              "      <td>0.641839</td>\n",
              "      <td>0.801149</td>\n",
              "      <td>5.902141</td>\n",
              "      <td>2.615740</td>\n",
              "      <td>-0.675000</td>\n",
              "      <td>1.0</td>\n",
              "    </tr>\n",
              "    <tr>\n",
              "      <th>3</th>\n",
              "      <td>-0.121579</td>\n",
              "      <td>-0.115</td>\n",
              "      <td>-0.105</td>\n",
              "      <td>0.000801</td>\n",
              "      <td>0.028310</td>\n",
              "      <td>0.521682</td>\n",
              "      <td>-1.184300</td>\n",
              "      <td>0.085000</td>\n",
              "      <td>0.0</td>\n",
              "    </tr>\n",
              "    <tr>\n",
              "      <th>4</th>\n",
              "      <td>0.071750</td>\n",
              "      <td>-0.160</td>\n",
              "      <td>-0.155</td>\n",
              "      <td>0.648602</td>\n",
              "      <td>0.805358</td>\n",
              "      <td>5.303545</td>\n",
              "      <td>2.520852</td>\n",
              "      <td>-0.655000</td>\n",
              "      <td>1.0</td>\n",
              "    </tr>\n",
              "    <tr>\n",
              "      <th>...</th>\n",
              "      <td>...</td>\n",
              "      <td>...</td>\n",
              "      <td>...</td>\n",
              "      <td>...</td>\n",
              "      <td>...</td>\n",
              "      <td>...</td>\n",
              "      <td>...</td>\n",
              "      <td>...</td>\n",
              "      <td>...</td>\n",
              "    </tr>\n",
              "    <tr>\n",
              "      <th>295121</th>\n",
              "      <td>0.282500</td>\n",
              "      <td>0.270</td>\n",
              "      <td>0.445</td>\n",
              "      <td>0.064134</td>\n",
              "      <td>0.253246</td>\n",
              "      <td>1.320492</td>\n",
              "      <td>0.959239</td>\n",
              "      <td>-0.215000</td>\n",
              "      <td>1.0</td>\n",
              "    </tr>\n",
              "    <tr>\n",
              "      <th>295122</th>\n",
              "      <td>-0.388750</td>\n",
              "      <td>-0.460</td>\n",
              "      <td>-0.595</td>\n",
              "      <td>0.069388</td>\n",
              "      <td>0.263417</td>\n",
              "      <td>3.772974</td>\n",
              "      <td>1.723137</td>\n",
              "      <td>-0.945000</td>\n",
              "      <td>1.0</td>\n",
              "    </tr>\n",
              "    <tr>\n",
              "      <th>295123</th>\n",
              "      <td>-0.776750</td>\n",
              "      <td>-0.800</td>\n",
              "      <td>-0.645</td>\n",
              "      <td>0.061369</td>\n",
              "      <td>0.247729</td>\n",
              "      <td>4.824382</td>\n",
              "      <td>1.899111</td>\n",
              "      <td>-1.295000</td>\n",
              "      <td>1.0</td>\n",
              "    </tr>\n",
              "    <tr>\n",
              "      <th>295124</th>\n",
              "      <td>-0.979750</td>\n",
              "      <td>-1.045</td>\n",
              "      <td>-1.135</td>\n",
              "      <td>0.044720</td>\n",
              "      <td>0.211471</td>\n",
              "      <td>6.164108</td>\n",
              "      <td>2.367984</td>\n",
              "      <td>-1.535000</td>\n",
              "      <td>1.0</td>\n",
              "    </tr>\n",
              "    <tr>\n",
              "      <th>295125</th>\n",
              "      <td>-0.899750</td>\n",
              "      <td>-0.970</td>\n",
              "      <td>-1.015</td>\n",
              "      <td>0.054825</td>\n",
              "      <td>0.234147</td>\n",
              "      <td>10.263344</td>\n",
              "      <td>3.101492</td>\n",
              "      <td>-1.465000</td>\n",
              "      <td>1.0</td>\n",
              "    </tr>\n",
              "  </tbody>\n",
              "</table>\n",
              "<p>295126 rows × 9 columns</p>\n",
              "</div>\n",
              "      <button class=\"colab-df-convert\" onclick=\"convertToInteractive('df-73bf715a-1594-4b35-bc2a-817ae8f480b7')\"\n",
              "              title=\"Convert this dataframe to an interactive table.\"\n",
              "              style=\"display:none;\">\n",
              "        \n",
              "  <svg xmlns=\"http://www.w3.org/2000/svg\" height=\"24px\"viewBox=\"0 0 24 24\"\n",
              "       width=\"24px\">\n",
              "    <path d=\"M0 0h24v24H0V0z\" fill=\"none\"/>\n",
              "    <path d=\"M18.56 5.44l.94 2.06.94-2.06 2.06-.94-2.06-.94-.94-2.06-.94 2.06-2.06.94zm-11 1L8.5 8.5l.94-2.06 2.06-.94-2.06-.94L8.5 2.5l-.94 2.06-2.06.94zm10 10l.94 2.06.94-2.06 2.06-.94-2.06-.94-.94-2.06-.94 2.06-2.06.94z\"/><path d=\"M17.41 7.96l-1.37-1.37c-.4-.4-.92-.59-1.43-.59-.52 0-1.04.2-1.43.59L10.3 9.45l-7.72 7.72c-.78.78-.78 2.05 0 2.83L4 21.41c.39.39.9.59 1.41.59.51 0 1.02-.2 1.41-.59l7.78-7.78 2.81-2.81c.8-.78.8-2.07 0-2.86zM5.41 20L4 18.59l7.72-7.72 1.47 1.35L5.41 20z\"/>\n",
              "  </svg>\n",
              "      </button>\n",
              "      \n",
              "  <style>\n",
              "    .colab-df-container {\n",
              "      display:flex;\n",
              "      flex-wrap:wrap;\n",
              "      gap: 12px;\n",
              "    }\n",
              "\n",
              "    .colab-df-convert {\n",
              "      background-color: #E8F0FE;\n",
              "      border: none;\n",
              "      border-radius: 50%;\n",
              "      cursor: pointer;\n",
              "      display: none;\n",
              "      fill: #1967D2;\n",
              "      height: 32px;\n",
              "      padding: 0 0 0 0;\n",
              "      width: 32px;\n",
              "    }\n",
              "\n",
              "    .colab-df-convert:hover {\n",
              "      background-color: #E2EBFA;\n",
              "      box-shadow: 0px 1px 2px rgba(60, 64, 67, 0.3), 0px 1px 3px 1px rgba(60, 64, 67, 0.15);\n",
              "      fill: #174EA6;\n",
              "    }\n",
              "\n",
              "    [theme=dark] .colab-df-convert {\n",
              "      background-color: #3B4455;\n",
              "      fill: #D2E3FC;\n",
              "    }\n",
              "\n",
              "    [theme=dark] .colab-df-convert:hover {\n",
              "      background-color: #434B5C;\n",
              "      box-shadow: 0px 1px 3px 1px rgba(0, 0, 0, 0.15);\n",
              "      filter: drop-shadow(0px 1px 2px rgba(0, 0, 0, 0.3));\n",
              "      fill: #FFFFFF;\n",
              "    }\n",
              "  </style>\n",
              "\n",
              "      <script>\n",
              "        const buttonEl =\n",
              "          document.querySelector('#df-73bf715a-1594-4b35-bc2a-817ae8f480b7 button.colab-df-convert');\n",
              "        buttonEl.style.display =\n",
              "          google.colab.kernel.accessAllowed ? 'block' : 'none';\n",
              "\n",
              "        async function convertToInteractive(key) {\n",
              "          const element = document.querySelector('#df-73bf715a-1594-4b35-bc2a-817ae8f480b7');\n",
              "          const dataTable =\n",
              "            await google.colab.kernel.invokeFunction('convertToInteractive',\n",
              "                                                     [key], {});\n",
              "          if (!dataTable) return;\n",
              "\n",
              "          const docLinkHtml = 'Like what you see? Visit the ' +\n",
              "            '<a target=\"_blank\" href=https://colab.research.google.com/notebooks/data_table.ipynb>data table notebook</a>'\n",
              "            + ' to learn more about interactive tables.';\n",
              "          element.innerHTML = '';\n",
              "          dataTable['output_type'] = 'display_data';\n",
              "          await google.colab.output.renderOutput(dataTable, element);\n",
              "          const docLink = document.createElement('div');\n",
              "          docLink.innerHTML = docLinkHtml;\n",
              "          element.appendChild(docLink);\n",
              "        }\n",
              "      </script>\n",
              "    </div>\n",
              "  </div>\n",
              "  "
            ]
          },
          "metadata": {},
          "execution_count": 21
        }
      ]
    },
    {
      "cell_type": "code",
      "source": [
        "#Nulos\n",
        "\n",
        "df.isnull().sum()"
      ],
      "metadata": {
        "colab": {
          "base_uri": "https://localhost:8080/"
        },
        "id": "ULwXxEdSxmNv",
        "outputId": "5fa8a3d2-6ddc-4019-f686-5e13fc7cc405"
      },
      "execution_count": 15,
      "outputs": [
        {
          "output_type": "execute_result",
          "data": {
            "text/plain": [
              "Media                  0\n",
              "Mediana                0\n",
              "Moda                   0\n",
              "Varianza               0\n",
              "Desviación Estandar    0\n",
              "Curtosis               0\n",
              "Asimetría              0\n",
              "Percentil 50           0\n",
              "Output                 0\n",
              "dtype: int64"
            ]
          },
          "metadata": {},
          "execution_count": 15
        }
      ]
    },
    {
      "cell_type": "code",
      "source": [
        "X = df.loc[:, df.columns != \"Output\"]\n",
        "Y = df.loc[:, \"Output\"]"
      ],
      "metadata": {
        "id": "zmC6tL_MDXk6"
      },
      "execution_count": 25,
      "outputs": []
    },
    {
      "cell_type": "code",
      "source": [
        "Y"
      ],
      "metadata": {
        "colab": {
          "base_uri": "https://localhost:8080/"
        },
        "id": "NgYX6Fd3kb0h",
        "outputId": "d7b8a153-4ad3-458f-81b0-1105d9c7f14a"
      },
      "execution_count": 26,
      "outputs": [
        {
          "output_type": "execute_result",
          "data": {
            "text/plain": [
              "0         1.0\n",
              "1         0.0\n",
              "2         1.0\n",
              "3         0.0\n",
              "4         1.0\n",
              "         ... \n",
              "295121    1.0\n",
              "295122    1.0\n",
              "295123    1.0\n",
              "295124    1.0\n",
              "295125    1.0\n",
              "Name: Output, Length: 295126, dtype: float64"
            ]
          },
          "metadata": {},
          "execution_count": 26
        }
      ]
    },
    {
      "cell_type": "code",
      "source": [
        "#Entrenamiento \n",
        "\n",
        "x_train, x_test, y_train, y_test = train_test_split(\n",
        "                                        X,\n",
        "                                        Y,\n",
        "                                        train_size = 0.7\n",
        "                                    )   "
      ],
      "metadata": {
        "id": "-pEaOTY32Jp-"
      },
      "execution_count": 27,
      "outputs": []
    },
    {
      "cell_type": "markdown",
      "source": [
        "## **Creando la Máquina de Soporte Vectorial (SVM)**"
      ],
      "metadata": {
        "id": "SVEOYh3fnHlE"
      }
    },
    {
      "cell_type": "code",
      "source": [
        "#Normalizar las características\n",
        "\n",
        "scaler = StandardScaler()\n",
        "scaler.fit(x_train)\n",
        "x_train = scaler.transform(x_train)"
      ],
      "metadata": {
        "id": "20LX0Jk01-Bz"
      },
      "execution_count": 28,
      "outputs": []
    },
    {
      "cell_type": "code",
      "source": [
        "# Optimización del hiperparámetro\n",
        "\n",
        "for k in ('linear', 'poly', 'rbf', 'sigmoid'):\n",
        "    model = svm.SVC(kernel=k)\n",
        "    model.fit(x_train, y_train)\n",
        "    predictions = model.predict(x_train)\n",
        "    print(k)\n",
        "    print(accuracy_score(y_train, predictions))"
      ],
      "metadata": {
        "colab": {
          "base_uri": "https://localhost:8080/"
        },
        "id": "xTpAB5RnnYyj",
        "outputId": "a6294841-20c0-4ef9-9e2c-a70c8b194f3b"
      },
      "execution_count": null,
      "outputs": [
        {
          "output_type": "stream",
          "name": "stdout",
          "text": [
            "linear\n",
            "0.9722781574922067\n"
          ]
        }
      ]
    },
    {
      "cell_type": "code",
      "source": [
        "model = svm.SVC(kernel='linear')\n",
        "model.fit(x_train, y_train)\n",
        "\n",
        "\n",
        "x_test = scaler.transform(x_test)\n",
        "predictions = model.predict(x_test)\n",
        "print(\"Accuracy:\", accuracy_score(y_test, predictions))"
      ],
      "metadata": {
        "colab": {
          "base_uri": "https://localhost:8080/"
        },
        "id": "5-v_GuRBpHsR",
        "outputId": "6329e3ad-17bb-4a5d-b4b2-63db865d8bfa"
      },
      "execution_count": 29,
      "outputs": [
        {
          "output_type": "stream",
          "name": "stdout",
          "text": [
            "Accuracy: 0.9724750954392464\n"
          ]
        }
      ]
    },
    {
      "cell_type": "markdown",
      "source": [
        "El puntaje de precisión es de 0.9724750954392464"
      ],
      "metadata": {
        "id": "5ZJrc4nE_sj-"
      }
    },
    {
      "cell_type": "code",
      "source": [
        "#Validación cruzada\n",
        "\n",
        "kf = KFold(n_splits=10)\n",
        "scores = cross_val_score(model, X, Y, cv = kf, scoring=\"accuracy\")\n",
        "print(\"Validación cruzada\", scores.mean())"
      ],
      "metadata": {
        "colab": {
          "base_uri": "https://localhost:8080/"
        },
        "id": "o5ORihXa5Vhw",
        "outputId": "385f7576-d0d7-4d71-c6ad-28913daa6c0a"
      },
      "execution_count": 31,
      "outputs": [
        {
          "output_type": "stream",
          "name": "stdout",
          "text": [
            "Validación cruzada 0.9547073504104862\n"
          ]
        }
      ]
    },
    {
      "cell_type": "markdown",
      "source": [
        "El puntaje de la validación cruzada es de 0.9547073504104862"
      ],
      "metadata": {
        "id": "iQh4vjN7KblZ"
      }
    },
    {
      "cell_type": "markdown",
      "source": [
        "## *Punto 2*\n",
        "\n",
        "Realizar un esquema de fusión de detectores por votación con el anterior numeral, en donde la\n",
        "cantidad de detectores a utilizar debe ser igual a 3. Deben optimizar al menos 2 hiperparámetros\n",
        "de los otros detectores usando la validación cruzada.\n",
        "\n",
        "\n",
        "*Deben Concluir la razón de por que el desempeño mejora o empeora con el anterior numeral.*"
      ],
      "metadata": {
        "id": "A_BkDWyw3UDB"
      }
    },
    {
      "cell_type": "markdown",
      "source": [
        "El punto 2 se encuentra en el siguiente enlace, debido a problemas con el trabajo simultáneo en el mismo archivo.\n",
        "\n",
        "Arguello: https://colab.research.google.com/drive/1w9J5WLWL457urSthZ2xZwlF1eGcGMQqY?usp=sharing"
      ],
      "metadata": {
        "id": "ZLdXgmQz_cse"
      }
    },
    {
      "cell_type": "markdown",
      "source": [
        "## Punto 3\n",
        "\n",
        "Usando la base de datos de calidad de aire crear una red neuronal con no más de 5 parámetros de\n",
        "entrada. Deben optimizar hiperparámetros junto a una validación cruzada para alcanzar un\n",
        "desempeño superior a 0.81. En caso que no alcancen se debe utilizar esquemas de fusión de\n",
        "detectores.\n",
        "\n",
        "\n",
        "En caso que con la función de detectores no alcance el desempeño deben calcular el desempeño\n",
        "de manera individual y reportarlos.\n",
        "\n",
        "\n",
        "***Nota: NO SE PERMITE ELIMINAR ATIPICOS.***"
      ],
      "metadata": {
        "id": "8z9_MsS23esV"
      }
    },
    {
      "cell_type": "markdown",
      "source": [
        "## INFORMACIÓN DEL DATASET\n",
        "\n",
        "El dataset contiene 9358 instancias de respuestas promediadas por hora de un conjunto de 5 sensores químicos de óxido metálico integrados en un dispositivo multisensor químico de calidad del aire. El dispositivo estaba situado sobre el terreno en una zona significativamente contaminada, a nivel de carretera, dentro de una ciudad italiana. Los datos se registraron desde marzo de 2004 hasta febrero de 2005 (un año), lo que representa el mayor registro disponible de respuestas de dispositivos de sensores químicos de calidad del aire desplegados sobre el terreno. Las concentraciones medias horarias de CO, hidrocarburos no metálicos, benceno, óxidos de nitrógeno (NOx) y dióxido de nitrógeno (NO2) fueron proporcionadas por un analizador de referencia certificado. Existen evidencias de sensibilidades cruzadas, así como de desviaciones del concepto y del sensor, como se describe en De Vito et al., Sens. And Act. B, Vol. 129,2,2008 (cita requerida) afectando eventualmente a las capacidades de estimación de la concentración de los sensores. Los valores perdidos se etiquetan con el valor -200.\n",
        "\n",
        "Este dataset puede utilizarse exclusivamente con fines de investigación. Los fines comerciales están totalmente excluidos.\n"
      ],
      "metadata": {
        "id": "etmWtb0LmOOV"
      }
    },
    {
      "cell_type": "code",
      "source": [
        "#Librerías\n",
        "\n",
        "from sklearn.neural_network import MLPClassifier\n",
        "from sklearn.datasets import make_classification\n",
        "from sklearn.model_selection import train_test_split\n",
        "from sklearn.model_selection import cross_val_score\n",
        "from sklearn.model_selection import KFold\n",
        "\n",
        "import seaborn as sns\n",
        "import matplotlib.pyplot as plt\n",
        "import pandas as pd\n",
        "import numpy as np"
      ],
      "metadata": {
        "id": "SZAnA67_wwCx"
      },
      "execution_count": 5,
      "outputs": []
    },
    {
      "cell_type": "code",
      "source": [
        "#Dataset\n",
        "\n",
        "archivo = 'https://raw.githubusercontent.com/Armandosky/Analitica_Datos/main/AirQualityUCI.csv'\n",
        "air = pd.read_csv(archivo, engine=\"python\", sep= \";\")"
      ],
      "metadata": {
        "id": "bcovYmUV5K8e"
      },
      "execution_count": 6,
      "outputs": []
    },
    {
      "cell_type": "code",
      "source": [
        "air.columns"
      ],
      "metadata": {
        "colab": {
          "base_uri": "https://localhost:8080/"
        },
        "id": "E3bZgTaR5Fbb",
        "outputId": "d19797d5-1abc-4a2e-f73f-2fc8c507e829"
      },
      "execution_count": 7,
      "outputs": [
        {
          "output_type": "execute_result",
          "data": {
            "text/plain": [
              "Index(['Date', 'Time', 'CO(GT)', 'PT08.S1(CO)', 'NMHC(GT)', 'C6H6(GT)',\n",
              "       'PT08.S2(NMHC)', 'NOx(GT)', 'PT08.S3(NOx)', 'NO2(GT)', 'PT08.S4(NO2)',\n",
              "       'PT08.S5(O3)', 'T', 'RH', 'AH', 'Unnamed: 15', 'Unnamed: 16'],\n",
              "      dtype='object')"
            ]
          },
          "metadata": {},
          "execution_count": 7
        }
      ]
    },
    {
      "cell_type": "code",
      "source": [
        "air"
      ],
      "metadata": {
        "colab": {
          "base_uri": "https://localhost:8080/",
          "height": 505
        },
        "id": "0d2DcNza5tp5",
        "outputId": "396cc12b-ba0d-4fa0-bc38-f148b996ed11"
      },
      "execution_count": 8,
      "outputs": [
        {
          "output_type": "execute_result",
          "data": {
            "text/plain": [
              "            Date      Time CO(GT)  PT08.S1(CO)  NMHC(GT) C6H6(GT)  \\\n",
              "0     10/03/2004  18.00.00    2,6       1360.0     150.0     11,9   \n",
              "1     10/03/2004  19.00.00      2       1292.0     112.0      9,4   \n",
              "2     10/03/2004  20.00.00    2,2       1402.0      88.0      9,0   \n",
              "3     10/03/2004  21.00.00    2,2       1376.0      80.0      9,2   \n",
              "4     10/03/2004  22.00.00    1,6       1272.0      51.0      6,5   \n",
              "...          ...       ...    ...          ...       ...      ...   \n",
              "9466         NaN       NaN    NaN          NaN       NaN      NaN   \n",
              "9467         NaN       NaN    NaN          NaN       NaN      NaN   \n",
              "9468         NaN       NaN    NaN          NaN       NaN      NaN   \n",
              "9469         NaN       NaN    NaN          NaN       NaN      NaN   \n",
              "9470         NaN       NaN    NaN          NaN       NaN      NaN   \n",
              "\n",
              "      PT08.S2(NMHC)  NOx(GT)  PT08.S3(NOx)  NO2(GT)  PT08.S4(NO2)  \\\n",
              "0            1046.0    166.0        1056.0    113.0        1692.0   \n",
              "1             955.0    103.0        1174.0     92.0        1559.0   \n",
              "2             939.0    131.0        1140.0    114.0        1555.0   \n",
              "3             948.0    172.0        1092.0    122.0        1584.0   \n",
              "4             836.0    131.0        1205.0    116.0        1490.0   \n",
              "...             ...      ...           ...      ...           ...   \n",
              "9466            NaN      NaN           NaN      NaN           NaN   \n",
              "9467            NaN      NaN           NaN      NaN           NaN   \n",
              "9468            NaN      NaN           NaN      NaN           NaN   \n",
              "9469            NaN      NaN           NaN      NaN           NaN   \n",
              "9470            NaN      NaN           NaN      NaN           NaN   \n",
              "\n",
              "      PT08.S5(O3)     T    RH      AH  Unnamed: 15  Unnamed: 16  \n",
              "0          1268.0  13,6  48,9  0,7578          NaN          NaN  \n",
              "1           972.0  13,3  47,7  0,7255          NaN          NaN  \n",
              "2          1074.0  11,9  54,0  0,7502          NaN          NaN  \n",
              "3          1203.0  11,0  60,0  0,7867          NaN          NaN  \n",
              "4          1110.0  11,2  59,6  0,7888          NaN          NaN  \n",
              "...           ...   ...   ...     ...          ...          ...  \n",
              "9466          NaN   NaN   NaN     NaN          NaN          NaN  \n",
              "9467          NaN   NaN   NaN     NaN          NaN          NaN  \n",
              "9468          NaN   NaN   NaN     NaN          NaN          NaN  \n",
              "9469          NaN   NaN   NaN     NaN          NaN          NaN  \n",
              "9470          NaN   NaN   NaN     NaN          NaN          NaN  \n",
              "\n",
              "[9471 rows x 17 columns]"
            ],
            "text/html": [
              "\n",
              "  <div id=\"df-bfd4f6a7-8f26-4fac-9798-e34556894185\">\n",
              "    <div class=\"colab-df-container\">\n",
              "      <div>\n",
              "<style scoped>\n",
              "    .dataframe tbody tr th:only-of-type {\n",
              "        vertical-align: middle;\n",
              "    }\n",
              "\n",
              "    .dataframe tbody tr th {\n",
              "        vertical-align: top;\n",
              "    }\n",
              "\n",
              "    .dataframe thead th {\n",
              "        text-align: right;\n",
              "    }\n",
              "</style>\n",
              "<table border=\"1\" class=\"dataframe\">\n",
              "  <thead>\n",
              "    <tr style=\"text-align: right;\">\n",
              "      <th></th>\n",
              "      <th>Date</th>\n",
              "      <th>Time</th>\n",
              "      <th>CO(GT)</th>\n",
              "      <th>PT08.S1(CO)</th>\n",
              "      <th>NMHC(GT)</th>\n",
              "      <th>C6H6(GT)</th>\n",
              "      <th>PT08.S2(NMHC)</th>\n",
              "      <th>NOx(GT)</th>\n",
              "      <th>PT08.S3(NOx)</th>\n",
              "      <th>NO2(GT)</th>\n",
              "      <th>PT08.S4(NO2)</th>\n",
              "      <th>PT08.S5(O3)</th>\n",
              "      <th>T</th>\n",
              "      <th>RH</th>\n",
              "      <th>AH</th>\n",
              "      <th>Unnamed: 15</th>\n",
              "      <th>Unnamed: 16</th>\n",
              "    </tr>\n",
              "  </thead>\n",
              "  <tbody>\n",
              "    <tr>\n",
              "      <th>0</th>\n",
              "      <td>10/03/2004</td>\n",
              "      <td>18.00.00</td>\n",
              "      <td>2,6</td>\n",
              "      <td>1360.0</td>\n",
              "      <td>150.0</td>\n",
              "      <td>11,9</td>\n",
              "      <td>1046.0</td>\n",
              "      <td>166.0</td>\n",
              "      <td>1056.0</td>\n",
              "      <td>113.0</td>\n",
              "      <td>1692.0</td>\n",
              "      <td>1268.0</td>\n",
              "      <td>13,6</td>\n",
              "      <td>48,9</td>\n",
              "      <td>0,7578</td>\n",
              "      <td>NaN</td>\n",
              "      <td>NaN</td>\n",
              "    </tr>\n",
              "    <tr>\n",
              "      <th>1</th>\n",
              "      <td>10/03/2004</td>\n",
              "      <td>19.00.00</td>\n",
              "      <td>2</td>\n",
              "      <td>1292.0</td>\n",
              "      <td>112.0</td>\n",
              "      <td>9,4</td>\n",
              "      <td>955.0</td>\n",
              "      <td>103.0</td>\n",
              "      <td>1174.0</td>\n",
              "      <td>92.0</td>\n",
              "      <td>1559.0</td>\n",
              "      <td>972.0</td>\n",
              "      <td>13,3</td>\n",
              "      <td>47,7</td>\n",
              "      <td>0,7255</td>\n",
              "      <td>NaN</td>\n",
              "      <td>NaN</td>\n",
              "    </tr>\n",
              "    <tr>\n",
              "      <th>2</th>\n",
              "      <td>10/03/2004</td>\n",
              "      <td>20.00.00</td>\n",
              "      <td>2,2</td>\n",
              "      <td>1402.0</td>\n",
              "      <td>88.0</td>\n",
              "      <td>9,0</td>\n",
              "      <td>939.0</td>\n",
              "      <td>131.0</td>\n",
              "      <td>1140.0</td>\n",
              "      <td>114.0</td>\n",
              "      <td>1555.0</td>\n",
              "      <td>1074.0</td>\n",
              "      <td>11,9</td>\n",
              "      <td>54,0</td>\n",
              "      <td>0,7502</td>\n",
              "      <td>NaN</td>\n",
              "      <td>NaN</td>\n",
              "    </tr>\n",
              "    <tr>\n",
              "      <th>3</th>\n",
              "      <td>10/03/2004</td>\n",
              "      <td>21.00.00</td>\n",
              "      <td>2,2</td>\n",
              "      <td>1376.0</td>\n",
              "      <td>80.0</td>\n",
              "      <td>9,2</td>\n",
              "      <td>948.0</td>\n",
              "      <td>172.0</td>\n",
              "      <td>1092.0</td>\n",
              "      <td>122.0</td>\n",
              "      <td>1584.0</td>\n",
              "      <td>1203.0</td>\n",
              "      <td>11,0</td>\n",
              "      <td>60,0</td>\n",
              "      <td>0,7867</td>\n",
              "      <td>NaN</td>\n",
              "      <td>NaN</td>\n",
              "    </tr>\n",
              "    <tr>\n",
              "      <th>4</th>\n",
              "      <td>10/03/2004</td>\n",
              "      <td>22.00.00</td>\n",
              "      <td>1,6</td>\n",
              "      <td>1272.0</td>\n",
              "      <td>51.0</td>\n",
              "      <td>6,5</td>\n",
              "      <td>836.0</td>\n",
              "      <td>131.0</td>\n",
              "      <td>1205.0</td>\n",
              "      <td>116.0</td>\n",
              "      <td>1490.0</td>\n",
              "      <td>1110.0</td>\n",
              "      <td>11,2</td>\n",
              "      <td>59,6</td>\n",
              "      <td>0,7888</td>\n",
              "      <td>NaN</td>\n",
              "      <td>NaN</td>\n",
              "    </tr>\n",
              "    <tr>\n",
              "      <th>...</th>\n",
              "      <td>...</td>\n",
              "      <td>...</td>\n",
              "      <td>...</td>\n",
              "      <td>...</td>\n",
              "      <td>...</td>\n",
              "      <td>...</td>\n",
              "      <td>...</td>\n",
              "      <td>...</td>\n",
              "      <td>...</td>\n",
              "      <td>...</td>\n",
              "      <td>...</td>\n",
              "      <td>...</td>\n",
              "      <td>...</td>\n",
              "      <td>...</td>\n",
              "      <td>...</td>\n",
              "      <td>...</td>\n",
              "      <td>...</td>\n",
              "    </tr>\n",
              "    <tr>\n",
              "      <th>9466</th>\n",
              "      <td>NaN</td>\n",
              "      <td>NaN</td>\n",
              "      <td>NaN</td>\n",
              "      <td>NaN</td>\n",
              "      <td>NaN</td>\n",
              "      <td>NaN</td>\n",
              "      <td>NaN</td>\n",
              "      <td>NaN</td>\n",
              "      <td>NaN</td>\n",
              "      <td>NaN</td>\n",
              "      <td>NaN</td>\n",
              "      <td>NaN</td>\n",
              "      <td>NaN</td>\n",
              "      <td>NaN</td>\n",
              "      <td>NaN</td>\n",
              "      <td>NaN</td>\n",
              "      <td>NaN</td>\n",
              "    </tr>\n",
              "    <tr>\n",
              "      <th>9467</th>\n",
              "      <td>NaN</td>\n",
              "      <td>NaN</td>\n",
              "      <td>NaN</td>\n",
              "      <td>NaN</td>\n",
              "      <td>NaN</td>\n",
              "      <td>NaN</td>\n",
              "      <td>NaN</td>\n",
              "      <td>NaN</td>\n",
              "      <td>NaN</td>\n",
              "      <td>NaN</td>\n",
              "      <td>NaN</td>\n",
              "      <td>NaN</td>\n",
              "      <td>NaN</td>\n",
              "      <td>NaN</td>\n",
              "      <td>NaN</td>\n",
              "      <td>NaN</td>\n",
              "      <td>NaN</td>\n",
              "    </tr>\n",
              "    <tr>\n",
              "      <th>9468</th>\n",
              "      <td>NaN</td>\n",
              "      <td>NaN</td>\n",
              "      <td>NaN</td>\n",
              "      <td>NaN</td>\n",
              "      <td>NaN</td>\n",
              "      <td>NaN</td>\n",
              "      <td>NaN</td>\n",
              "      <td>NaN</td>\n",
              "      <td>NaN</td>\n",
              "      <td>NaN</td>\n",
              "      <td>NaN</td>\n",
              "      <td>NaN</td>\n",
              "      <td>NaN</td>\n",
              "      <td>NaN</td>\n",
              "      <td>NaN</td>\n",
              "      <td>NaN</td>\n",
              "      <td>NaN</td>\n",
              "    </tr>\n",
              "    <tr>\n",
              "      <th>9469</th>\n",
              "      <td>NaN</td>\n",
              "      <td>NaN</td>\n",
              "      <td>NaN</td>\n",
              "      <td>NaN</td>\n",
              "      <td>NaN</td>\n",
              "      <td>NaN</td>\n",
              "      <td>NaN</td>\n",
              "      <td>NaN</td>\n",
              "      <td>NaN</td>\n",
              "      <td>NaN</td>\n",
              "      <td>NaN</td>\n",
              "      <td>NaN</td>\n",
              "      <td>NaN</td>\n",
              "      <td>NaN</td>\n",
              "      <td>NaN</td>\n",
              "      <td>NaN</td>\n",
              "      <td>NaN</td>\n",
              "    </tr>\n",
              "    <tr>\n",
              "      <th>9470</th>\n",
              "      <td>NaN</td>\n",
              "      <td>NaN</td>\n",
              "      <td>NaN</td>\n",
              "      <td>NaN</td>\n",
              "      <td>NaN</td>\n",
              "      <td>NaN</td>\n",
              "      <td>NaN</td>\n",
              "      <td>NaN</td>\n",
              "      <td>NaN</td>\n",
              "      <td>NaN</td>\n",
              "      <td>NaN</td>\n",
              "      <td>NaN</td>\n",
              "      <td>NaN</td>\n",
              "      <td>NaN</td>\n",
              "      <td>NaN</td>\n",
              "      <td>NaN</td>\n",
              "      <td>NaN</td>\n",
              "    </tr>\n",
              "  </tbody>\n",
              "</table>\n",
              "<p>9471 rows × 17 columns</p>\n",
              "</div>\n",
              "      <button class=\"colab-df-convert\" onclick=\"convertToInteractive('df-bfd4f6a7-8f26-4fac-9798-e34556894185')\"\n",
              "              title=\"Convert this dataframe to an interactive table.\"\n",
              "              style=\"display:none;\">\n",
              "        \n",
              "  <svg xmlns=\"http://www.w3.org/2000/svg\" height=\"24px\"viewBox=\"0 0 24 24\"\n",
              "       width=\"24px\">\n",
              "    <path d=\"M0 0h24v24H0V0z\" fill=\"none\"/>\n",
              "    <path d=\"M18.56 5.44l.94 2.06.94-2.06 2.06-.94-2.06-.94-.94-2.06-.94 2.06-2.06.94zm-11 1L8.5 8.5l.94-2.06 2.06-.94-2.06-.94L8.5 2.5l-.94 2.06-2.06.94zm10 10l.94 2.06.94-2.06 2.06-.94-2.06-.94-.94-2.06-.94 2.06-2.06.94z\"/><path d=\"M17.41 7.96l-1.37-1.37c-.4-.4-.92-.59-1.43-.59-.52 0-1.04.2-1.43.59L10.3 9.45l-7.72 7.72c-.78.78-.78 2.05 0 2.83L4 21.41c.39.39.9.59 1.41.59.51 0 1.02-.2 1.41-.59l7.78-7.78 2.81-2.81c.8-.78.8-2.07 0-2.86zM5.41 20L4 18.59l7.72-7.72 1.47 1.35L5.41 20z\"/>\n",
              "  </svg>\n",
              "      </button>\n",
              "      \n",
              "  <style>\n",
              "    .colab-df-container {\n",
              "      display:flex;\n",
              "      flex-wrap:wrap;\n",
              "      gap: 12px;\n",
              "    }\n",
              "\n",
              "    .colab-df-convert {\n",
              "      background-color: #E8F0FE;\n",
              "      border: none;\n",
              "      border-radius: 50%;\n",
              "      cursor: pointer;\n",
              "      display: none;\n",
              "      fill: #1967D2;\n",
              "      height: 32px;\n",
              "      padding: 0 0 0 0;\n",
              "      width: 32px;\n",
              "    }\n",
              "\n",
              "    .colab-df-convert:hover {\n",
              "      background-color: #E2EBFA;\n",
              "      box-shadow: 0px 1px 2px rgba(60, 64, 67, 0.3), 0px 1px 3px 1px rgba(60, 64, 67, 0.15);\n",
              "      fill: #174EA6;\n",
              "    }\n",
              "\n",
              "    [theme=dark] .colab-df-convert {\n",
              "      background-color: #3B4455;\n",
              "      fill: #D2E3FC;\n",
              "    }\n",
              "\n",
              "    [theme=dark] .colab-df-convert:hover {\n",
              "      background-color: #434B5C;\n",
              "      box-shadow: 0px 1px 3px 1px rgba(0, 0, 0, 0.15);\n",
              "      filter: drop-shadow(0px 1px 2px rgba(0, 0, 0, 0.3));\n",
              "      fill: #FFFFFF;\n",
              "    }\n",
              "  </style>\n",
              "\n",
              "      <script>\n",
              "        const buttonEl =\n",
              "          document.querySelector('#df-bfd4f6a7-8f26-4fac-9798-e34556894185 button.colab-df-convert');\n",
              "        buttonEl.style.display =\n",
              "          google.colab.kernel.accessAllowed ? 'block' : 'none';\n",
              "\n",
              "        async function convertToInteractive(key) {\n",
              "          const element = document.querySelector('#df-bfd4f6a7-8f26-4fac-9798-e34556894185');\n",
              "          const dataTable =\n",
              "            await google.colab.kernel.invokeFunction('convertToInteractive',\n",
              "                                                     [key], {});\n",
              "          if (!dataTable) return;\n",
              "\n",
              "          const docLinkHtml = 'Like what you see? Visit the ' +\n",
              "            '<a target=\"_blank\" href=https://colab.research.google.com/notebooks/data_table.ipynb>data table notebook</a>'\n",
              "            + ' to learn more about interactive tables.';\n",
              "          element.innerHTML = '';\n",
              "          dataTable['output_type'] = 'display_data';\n",
              "          await google.colab.output.renderOutput(dataTable, element);\n",
              "          const docLink = document.createElement('div');\n",
              "          docLink.innerHTML = docLinkHtml;\n",
              "          element.appendChild(docLink);\n",
              "        }\n",
              "      </script>\n",
              "    </div>\n",
              "  </div>\n",
              "  "
            ]
          },
          "metadata": {},
          "execution_count": 8
        }
      ]
    },
    {
      "cell_type": "code",
      "source": [
        "#Nulos\n",
        "\n",
        "air.isnull().sum()"
      ],
      "metadata": {
        "colab": {
          "base_uri": "https://localhost:8080/"
        },
        "id": "UNR7rmiRx3zy",
        "outputId": "e738404a-6ba4-42d5-f5b4-2b630c82c1a7"
      },
      "execution_count": 10,
      "outputs": [
        {
          "output_type": "execute_result",
          "data": {
            "text/plain": [
              "Date              114\n",
              "Time              114\n",
              "CO(GT)            114\n",
              "PT08.S1(CO)       114\n",
              "NMHC(GT)          114\n",
              "C6H6(GT)          114\n",
              "PT08.S2(NMHC)     114\n",
              "NOx(GT)           114\n",
              "PT08.S3(NOx)      114\n",
              "NO2(GT)           114\n",
              "PT08.S4(NO2)      114\n",
              "PT08.S5(O3)       114\n",
              "T                 114\n",
              "RH                114\n",
              "AH                114\n",
              "Unnamed: 15      9471\n",
              "Unnamed: 16      9471\n",
              "dtype: int64"
            ]
          },
          "metadata": {},
          "execution_count": 10
        }
      ]
    },
    {
      "cell_type": "code",
      "source": [
        "#Eliminamos columnas extras\n",
        "\n",
        "air.drop('Unnamed: 15', inplace=True, axis=1)\n",
        "\n",
        "air.drop('Unnamed: 16', inplace=True, axis=1)"
      ],
      "metadata": {
        "id": "UOH3erY76a2e"
      },
      "execution_count": null,
      "outputs": []
    },
    {
      "cell_type": "code",
      "source": [
        "corrmat = air.corr()\n",
        "top_corr_feature = corrmat.index\n",
        "plt.figure(figsize=(15,10))\n",
        "plt.title('Co-relation', fontsize=25)\n",
        "# to plot heat map\n",
        "g=sns.heatmap(air[top_corr_feature].corr(),annot=True,cmap='viridis')"
      ],
      "metadata": {
        "colab": {
          "base_uri": "https://localhost:8080/",
          "height": 616
        },
        "id": "J34rEymN71jg",
        "outputId": "d00dc653-5d9c-4c0b-9896-8b0ddadeab8e"
      },
      "execution_count": null,
      "outputs": [
        {
          "output_type": "display_data",
          "data": {
            "text/plain": [
              "<Figure size 1080x720 with 2 Axes>"
            ],
            "image/png": "[encoded data removed]"
          },
          "metadata": {
            "needs_background": "light"
          }
        }
      ]
    },
    {
      "cell_type": "code",
      "source": [
        "#Eliminar -200\n",
        "\n",
        "air.replace(to_replace=-200,value=np.nan,inplace=True)"
      ],
      "metadata": {
        "id": "3TyfbXmCJrDZ"
      },
      "execution_count": null,
      "outputs": []
    },
    {
      "cell_type": "code",
      "source": [
        "air"
      ],
      "metadata": {
        "colab": {
          "base_uri": "https://localhost:8080/",
          "height": 424
        },
        "id": "UjS4P04xVfFW",
        "outputId": "91b34d04-c602-42f9-c224-f5ec46e4981c"
      },
      "execution_count": null,
      "outputs": [
        {
          "output_type": "execute_result",
          "data": {
            "text/plain": [
              "            Date      Time CO(GT)  PT08.S1(CO)  NMHC(GT) C6H6(GT)  \\\n",
              "0     10/03/2004  18.00.00    2,6       1360.0     150.0     11,9   \n",
              "1     10/03/2004  19.00.00      2       1292.0     112.0      9,4   \n",
              "2     10/03/2004  20.00.00    2,2       1402.0      88.0      9,0   \n",
              "3     10/03/2004  21.00.00    2,2       1376.0      80.0      9,2   \n",
              "4     10/03/2004  22.00.00    1,6       1272.0      51.0      6,5   \n",
              "...          ...       ...    ...          ...       ...      ...   \n",
              "9466         NaN       NaN    NaN          NaN       NaN      NaN   \n",
              "9467         NaN       NaN    NaN          NaN       NaN      NaN   \n",
              "9468         NaN       NaN    NaN          NaN       NaN      NaN   \n",
              "9469         NaN       NaN    NaN          NaN       NaN      NaN   \n",
              "9470         NaN       NaN    NaN          NaN       NaN      NaN   \n",
              "\n",
              "      PT08.S2(NMHC)  NOx(GT)  PT08.S3(NOx)  NO2(GT)  PT08.S4(NO2)  \\\n",
              "0            1046.0    166.0        1056.0    113.0        1692.0   \n",
              "1             955.0    103.0        1174.0     92.0        1559.0   \n",
              "2             939.0    131.0        1140.0    114.0        1555.0   \n",
              "3             948.0    172.0        1092.0    122.0        1584.0   \n",
              "4             836.0    131.0        1205.0    116.0        1490.0   \n",
              "...             ...      ...           ...      ...           ...   \n",
              "9466            NaN      NaN           NaN      NaN           NaN   \n",
              "9467            NaN      NaN           NaN      NaN           NaN   \n",
              "9468            NaN      NaN           NaN      NaN           NaN   \n",
              "9469            NaN      NaN           NaN      NaN           NaN   \n",
              "9470            NaN      NaN           NaN      NaN           NaN   \n",
              "\n",
              "      PT08.S5(O3)     T    RH      AH  \n",
              "0          1268.0  13,6  48,9  0,7578  \n",
              "1           972.0  13,3  47,7  0,7255  \n",
              "2          1074.0  11,9  54,0  0,7502  \n",
              "3          1203.0  11,0  60,0  0,7867  \n",
              "4          1110.0  11,2  59,6  0,7888  \n",
              "...           ...   ...   ...     ...  \n",
              "9466          NaN   NaN   NaN     NaN  \n",
              "9467          NaN   NaN   NaN     NaN  \n",
              "9468          NaN   NaN   NaN     NaN  \n",
              "9469          NaN   NaN   NaN     NaN  \n",
              "9470          NaN   NaN   NaN     NaN  \n",
              "\n",
              "[9471 rows x 15 columns]"
            ],
            "text/html": [
              "\n",
              "  <div id=\"df-bd071615-3d37-4aa1-8d18-2cbc87bb23ef\">\n",
              "    <div class=\"colab-df-container\">\n",
              "      <div>\n",
              "<style scoped>\n",
              "    .dataframe tbody tr th:only-of-type {\n",
              "        vertical-align: middle;\n",
              "    }\n",
              "\n",
              "    .dataframe tbody tr th {\n",
              "        vertical-align: top;\n",
              "    }\n",
              "\n",
              "    .dataframe thead th {\n",
              "        text-align: right;\n",
              "    }\n",
              "</style>\n",
              "<table border=\"1\" class=\"dataframe\">\n",
              "  <thead>\n",
              "    <tr style=\"text-align: right;\">\n",
              "      <th></th>\n",
              "      <th>Date</th>\n",
              "      <th>Time</th>\n",
              "      <th>CO(GT)</th>\n",
              "      <th>PT08.S1(CO)</th>\n",
              "      <th>NMHC(GT)</th>\n",
              "      <th>C6H6(GT)</th>\n",
              "      <th>PT08.S2(NMHC)</th>\n",
              "      <th>NOx(GT)</th>\n",
              "      <th>PT08.S3(NOx)</th>\n",
              "      <th>NO2(GT)</th>\n",
              "      <th>PT08.S4(NO2)</th>\n",
              "      <th>PT08.S5(O3)</th>\n",
              "      <th>T</th>\n",
              "      <th>RH</th>\n",
              "      <th>AH</th>\n",
              "    </tr>\n",
              "  </thead>\n",
              "  <tbody>\n",
              "    <tr>\n",
              "      <th>0</th>\n",
              "      <td>10/03/2004</td>\n",
              "      <td>18.00.00</td>\n",
              "      <td>2,6</td>\n",
              "      <td>1360.0</td>\n",
              "      <td>150.0</td>\n",
              "      <td>11,9</td>\n",
              "      <td>1046.0</td>\n",
              "      <td>166.0</td>\n",
              "      <td>1056.0</td>\n",
              "      <td>113.0</td>\n",
              "      <td>1692.0</td>\n",
              "      <td>1268.0</td>\n",
              "      <td>13,6</td>\n",
              "      <td>48,9</td>\n",
              "      <td>0,7578</td>\n",
              "    </tr>\n",
              "    <tr>\n",
              "      <th>1</th>\n",
              "      <td>10/03/2004</td>\n",
              "      <td>19.00.00</td>\n",
              "      <td>2</td>\n",
              "      <td>1292.0</td>\n",
              "      <td>112.0</td>\n",
              "      <td>9,4</td>\n",
              "      <td>955.0</td>\n",
              "      <td>103.0</td>\n",
              "      <td>1174.0</td>\n",
              "      <td>92.0</td>\n",
              "      <td>1559.0</td>\n",
              "      <td>972.0</td>\n",
              "      <td>13,3</td>\n",
              "      <td>47,7</td>\n",
              "      <td>0,7255</td>\n",
              "    </tr>\n",
              "    <tr>\n",
              "      <th>2</th>\n",
              "      <td>10/03/2004</td>\n",
              "      <td>20.00.00</td>\n",
              "      <td>2,2</td>\n",
              "      <td>1402.0</td>\n",
              "      <td>88.0</td>\n",
              "      <td>9,0</td>\n",
              "      <td>939.0</td>\n",
              "      <td>131.0</td>\n",
              "      <td>1140.0</td>\n",
              "      <td>114.0</td>\n",
              "      <td>1555.0</td>\n",
              "      <td>1074.0</td>\n",
              "      <td>11,9</td>\n",
              "      <td>54,0</td>\n",
              "      <td>0,7502</td>\n",
              "    </tr>\n",
              "    <tr>\n",
              "      <th>3</th>\n",
              "      <td>10/03/2004</td>\n",
              "      <td>21.00.00</td>\n",
              "      <td>2,2</td>\n",
              "      <td>1376.0</td>\n",
              "      <td>80.0</td>\n",
              "      <td>9,2</td>\n",
              "      <td>948.0</td>\n",
              "      <td>172.0</td>\n",
              "      <td>1092.0</td>\n",
              "      <td>122.0</td>\n",
              "      <td>1584.0</td>\n",
              "      <td>1203.0</td>\n",
              "      <td>11,0</td>\n",
              "      <td>60,0</td>\n",
              "      <td>0,7867</td>\n",
              "    </tr>\n",
              "    <tr>\n",
              "      <th>4</th>\n",
              "      <td>10/03/2004</td>\n",
              "      <td>22.00.00</td>\n",
              "      <td>1,6</td>\n",
              "      <td>1272.0</td>\n",
              "      <td>51.0</td>\n",
              "      <td>6,5</td>\n",
              "      <td>836.0</td>\n",
              "      <td>131.0</td>\n",
              "      <td>1205.0</td>\n",
              "      <td>116.0</td>\n",
              "      <td>1490.0</td>\n",
              "      <td>1110.0</td>\n",
              "      <td>11,2</td>\n",
              "      <td>59,6</td>\n",
              "      <td>0,7888</td>\n",
              "    </tr>\n",
              "    <tr>\n",
              "      <th>...</th>\n",
              "      <td>...</td>\n",
              "      <td>...</td>\n",
              "      <td>...</td>\n",
              "      <td>...</td>\n",
              "      <td>...</td>\n",
              "      <td>...</td>\n",
              "      <td>...</td>\n",
              "      <td>...</td>\n",
              "      <td>...</td>\n",
              "      <td>...</td>\n",
              "      <td>...</td>\n",
              "      <td>...</td>\n",
              "      <td>...</td>\n",
              "      <td>...</td>\n",
              "      <td>...</td>\n",
              "    </tr>\n",
              "    <tr>\n",
              "      <th>9466</th>\n",
              "      <td>NaN</td>\n",
              "      <td>NaN</td>\n",
              "      <td>NaN</td>\n",
              "      <td>NaN</td>\n",
              "      <td>NaN</td>\n",
              "      <td>NaN</td>\n",
              "      <td>NaN</td>\n",
              "      <td>NaN</td>\n",
              "      <td>NaN</td>\n",
              "      <td>NaN</td>\n",
              "      <td>NaN</td>\n",
              "      <td>NaN</td>\n",
              "      <td>NaN</td>\n",
              "      <td>NaN</td>\n",
              "      <td>NaN</td>\n",
              "    </tr>\n",
              "    <tr>\n",
              "      <th>9467</th>\n",
              "      <td>NaN</td>\n",
              "      <td>NaN</td>\n",
              "      <td>NaN</td>\n",
              "      <td>NaN</td>\n",
              "      <td>NaN</td>\n",
              "      <td>NaN</td>\n",
              "      <td>NaN</td>\n",
              "      <td>NaN</td>\n",
              "      <td>NaN</td>\n",
              "      <td>NaN</td>\n",
              "      <td>NaN</td>\n",
              "      <td>NaN</td>\n",
              "      <td>NaN</td>\n",
              "      <td>NaN</td>\n",
              "      <td>NaN</td>\n",
              "    </tr>\n",
              "    <tr>\n",
              "      <th>9468</th>\n",
              "      <td>NaN</td>\n",
              "      <td>NaN</td>\n",
              "      <td>NaN</td>\n",
              "      <td>NaN</td>\n",
              "      <td>NaN</td>\n",
              "      <td>NaN</td>\n",
              "      <td>NaN</td>\n",
              "      <td>NaN</td>\n",
              "      <td>NaN</td>\n",
              "      <td>NaN</td>\n",
              "      <td>NaN</td>\n",
              "      <td>NaN</td>\n",
              "      <td>NaN</td>\n",
              "      <td>NaN</td>\n",
              "      <td>NaN</td>\n",
              "    </tr>\n",
              "    <tr>\n",
              "      <th>9469</th>\n",
              "      <td>NaN</td>\n",
              "      <td>NaN</td>\n",
              "      <td>NaN</td>\n",
              "      <td>NaN</td>\n",
              "      <td>NaN</td>\n",
              "      <td>NaN</td>\n",
              "      <td>NaN</td>\n",
              "      <td>NaN</td>\n",
              "      <td>NaN</td>\n",
              "      <td>NaN</td>\n",
              "      <td>NaN</td>\n",
              "      <td>NaN</td>\n",
              "      <td>NaN</td>\n",
              "      <td>NaN</td>\n",
              "      <td>NaN</td>\n",
              "    </tr>\n",
              "    <tr>\n",
              "      <th>9470</th>\n",
              "      <td>NaN</td>\n",
              "      <td>NaN</td>\n",
              "      <td>NaN</td>\n",
              "      <td>NaN</td>\n",
              "      <td>NaN</td>\n",
              "      <td>NaN</td>\n",
              "      <td>NaN</td>\n",
              "      <td>NaN</td>\n",
              "      <td>NaN</td>\n",
              "      <td>NaN</td>\n",
              "      <td>NaN</td>\n",
              "      <td>NaN</td>\n",
              "      <td>NaN</td>\n",
              "      <td>NaN</td>\n",
              "      <td>NaN</td>\n",
              "    </tr>\n",
              "  </tbody>\n",
              "</table>\n",
              "<p>9471 rows × 15 columns</p>\n",
              "</div>\n",
              "      <button class=\"colab-df-convert\" onclick=\"convertToInteractive('df-bd071615-3d37-4aa1-8d18-2cbc87bb23ef')\"\n",
              "              title=\"Convert this dataframe to an interactive table.\"\n",
              "              style=\"display:none;\">\n",
              "        \n",
              "  <svg xmlns=\"http://www.w3.org/2000/svg\" height=\"24px\"viewBox=\"0 0 24 24\"\n",
              "       width=\"24px\">\n",
              "    <path d=\"M0 0h24v24H0V0z\" fill=\"none\"/>\n",
              "    <path d=\"M18.56 5.44l.94 2.06.94-2.06 2.06-.94-2.06-.94-.94-2.06-.94 2.06-2.06.94zm-11 1L8.5 8.5l.94-2.06 2.06-.94-2.06-.94L8.5 2.5l-.94 2.06-2.06.94zm10 10l.94 2.06.94-2.06 2.06-.94-2.06-.94-.94-2.06-.94 2.06-2.06.94z\"/><path d=\"M17.41 7.96l-1.37-1.37c-.4-.4-.92-.59-1.43-.59-.52 0-1.04.2-1.43.59L10.3 9.45l-7.72 7.72c-.78.78-.78 2.05 0 2.83L4 21.41c.39.39.9.59 1.41.59.51 0 1.02-.2 1.41-.59l7.78-7.78 2.81-2.81c.8-.78.8-2.07 0-2.86zM5.41 20L4 18.59l7.72-7.72 1.47 1.35L5.41 20z\"/>\n",
              "  </svg>\n",
              "      </button>\n",
              "      \n",
              "  <style>\n",
              "    .colab-df-container {\n",
              "      display:flex;\n",
              "      flex-wrap:wrap;\n",
              "      gap: 12px;\n",
              "    }\n",
              "\n",
              "    .colab-df-convert {\n",
              "      background-color: #E8F0FE;\n",
              "      border: none;\n",
              "      border-radius: 50%;\n",
              "      cursor: pointer;\n",
              "      display: none;\n",
              "      fill: #1967D2;\n",
              "      height: 32px;\n",
              "      padding: 0 0 0 0;\n",
              "      width: 32px;\n",
              "    }\n",
              "\n",
              "    .colab-df-convert:hover {\n",
              "      background-color: #E2EBFA;\n",
              "      box-shadow: 0px 1px 2px rgba(60, 64, 67, 0.3), 0px 1px 3px 1px rgba(60, 64, 67, 0.15);\n",
              "      fill: #174EA6;\n",
              "    }\n",
              "\n",
              "    [theme=dark] .colab-df-convert {\n",
              "      background-color: #3B4455;\n",
              "      fill: #D2E3FC;\n",
              "    }\n",
              "\n",
              "    [theme=dark] .colab-df-convert:hover {\n",
              "      background-color: #434B5C;\n",
              "      box-shadow: 0px 1px 3px 1px rgba(0, 0, 0, 0.15);\n",
              "      filter: drop-shadow(0px 1px 2px rgba(0, 0, 0, 0.3));\n",
              "      fill: #FFFFFF;\n",
              "    }\n",
              "  </style>\n",
              "\n",
              "      <script>\n",
              "        const buttonEl =\n",
              "          document.querySelector('#df-bd071615-3d37-4aa1-8d18-2cbc87bb23ef button.colab-df-convert');\n",
              "        buttonEl.style.display =\n",
              "          google.colab.kernel.accessAllowed ? 'block' : 'none';\n",
              "\n",
              "        async function convertToInteractive(key) {\n",
              "          const element = document.querySelector('#df-bd071615-3d37-4aa1-8d18-2cbc87bb23ef');\n",
              "          const dataTable =\n",
              "            await google.colab.kernel.invokeFunction('convertToInteractive',\n",
              "                                                     [key], {});\n",
              "          if (!dataTable) return;\n",
              "\n",
              "          const docLinkHtml = 'Like what you see? Visit the ' +\n",
              "            '<a target=\"_blank\" href=https://colab.research.google.com/notebooks/data_table.ipynb>data table notebook</a>'\n",
              "            + ' to learn more about interactive tables.';\n",
              "          element.innerHTML = '';\n",
              "          dataTable['output_type'] = 'display_data';\n",
              "          await google.colab.output.renderOutput(dataTable, element);\n",
              "          const docLink = document.createElement('div');\n",
              "          docLink.innerHTML = docLinkHtml;\n",
              "          element.appendChild(docLink);\n",
              "        }\n",
              "      </script>\n",
              "    </div>\n",
              "  </div>\n",
              "  "
            ]
          },
          "metadata": {},
          "execution_count": 9
        }
      ]
    },
    {
      "cell_type": "code",
      "source": [
        "#Eliminamos datos nulos\n",
        "\n",
        "clean_air = air.dropna(how='any', axis=0)\n",
        "clean_air.reset_index(drop=True,inplace=True)"
      ],
      "metadata": {
        "id": "oMkSmv3yYqeY"
      },
      "execution_count": null,
      "outputs": []
    },
    {
      "cell_type": "code",
      "source": [
        "clean_air"
      ],
      "metadata": {
        "colab": {
          "base_uri": "https://localhost:8080/",
          "height": 424
        },
        "id": "Wnv1ss3uYrR6",
        "outputId": "e2988d64-1a6b-40cf-98e8-5731d8858e0d"
      },
      "execution_count": null,
      "outputs": [
        {
          "output_type": "execute_result",
          "data": {
            "text/plain": [
              "           Date      Time CO(GT)  PT08.S1(CO)  NMHC(GT) C6H6(GT)  \\\n",
              "0    10/03/2004  18.00.00    2,6       1360.0     150.0     11,9   \n",
              "1    10/03/2004  19.00.00      2       1292.0     112.0      9,4   \n",
              "2    10/03/2004  20.00.00    2,2       1402.0      88.0      9,0   \n",
              "3    10/03/2004  21.00.00    2,2       1376.0      80.0      9,2   \n",
              "4    10/03/2004  22.00.00    1,6       1272.0      51.0      6,5   \n",
              "..          ...       ...    ...          ...       ...      ...   \n",
              "846  30/04/2004  20.00.00    4,4       1449.0     501.0     19,5   \n",
              "847  30/04/2004  21.00.00    3,1       1363.0     234.0     15,1   \n",
              "848  30/04/2004  22.00.00      3       1371.0     212.0     14,6   \n",
              "849  30/04/2004  23.00.00    3,1       1406.0     275.0     13,7   \n",
              "850  01/05/2004  00.00.00    3,5       1425.0     275.0     15,2   \n",
              "\n",
              "     PT08.S2(NMHC)  NOx(GT)  PT08.S3(NOx)  NO2(GT)  PT08.S4(NO2)  PT08.S5(O3)  \\\n",
              "0           1046.0    166.0        1056.0    113.0        1692.0       1268.0   \n",
              "1            955.0    103.0        1174.0     92.0        1559.0        972.0   \n",
              "2            939.0    131.0        1140.0    114.0        1555.0       1074.0   \n",
              "3            948.0    172.0        1092.0    122.0        1584.0       1203.0   \n",
              "4            836.0    131.0        1205.0    116.0        1490.0       1110.0   \n",
              "..             ...      ...           ...      ...           ...          ...   \n",
              "846         1282.0    254.0         625.0    133.0        2100.0       1569.0   \n",
              "847         1152.0    189.0         684.0    110.0        1951.0       1495.0   \n",
              "848         1136.0    174.0         689.0    102.0        1927.0       1471.0   \n",
              "849         1107.0    167.0         718.0    108.0        1872.0       1384.0   \n",
              "850         1155.0    185.0         709.0    110.0        1936.0       1789.0   \n",
              "\n",
              "        T    RH      AH  \n",
              "0    13,6  48,9  0,7578  \n",
              "1    13,3  47,7  0,7255  \n",
              "2    11,9  54,0  0,7502  \n",
              "3    11,0  60,0  0,7867  \n",
              "4    11,2  59,6  0,7888  \n",
              "..    ...   ...     ...  \n",
              "846  19,1  61,1  1,3345  \n",
              "847  18,2  65,4  1,3529  \n",
              "848  18,1  66,1  1,3579  \n",
              "849  17,7  66,9  1,3422  \n",
              "850  17,8  66,8  1,3460  \n",
              "\n",
              "[851 rows x 15 columns]"
            ],
            "text/html": [
              "\n",
              "  <div id=\"df-99178e23-23f8-408e-a138-70b5f1f7ac21\">\n",
              "    <div class=\"colab-df-container\">\n",
              "      <div>\n",
              "<style scoped>\n",
              "    .dataframe tbody tr th:only-of-type {\n",
              "        vertical-align: middle;\n",
              "    }\n",
              "\n",
              "    .dataframe tbody tr th {\n",
              "        vertical-align: top;\n",
              "    }\n",
              "\n",
              "    .dataframe thead th {\n",
              "        text-align: right;\n",
              "    }\n",
              "</style>\n",
              "<table border=\"1\" class=\"dataframe\">\n",
              "  <thead>\n",
              "    <tr style=\"text-align: right;\">\n",
              "      <th></th>\n",
              "      <th>Date</th>\n",
              "      <th>Time</th>\n",
              "      <th>CO(GT)</th>\n",
              "      <th>PT08.S1(CO)</th>\n",
              "      <th>NMHC(GT)</th>\n",
              "      <th>C6H6(GT)</th>\n",
              "      <th>PT08.S2(NMHC)</th>\n",
              "      <th>NOx(GT)</th>\n",
              "      <th>PT08.S3(NOx)</th>\n",
              "      <th>NO2(GT)</th>\n",
              "      <th>PT08.S4(NO2)</th>\n",
              "      <th>PT08.S5(O3)</th>\n",
              "      <th>T</th>\n",
              "      <th>RH</th>\n",
              "      <th>AH</th>\n",
              "    </tr>\n",
              "  </thead>\n",
              "  <tbody>\n",
              "    <tr>\n",
              "      <th>0</th>\n",
              "      <td>10/03/2004</td>\n",
              "      <td>18.00.00</td>\n",
              "      <td>2,6</td>\n",
              "      <td>1360.0</td>\n",
              "      <td>150.0</td>\n",
              "      <td>11,9</td>\n",
              "      <td>1046.0</td>\n",
              "      <td>166.0</td>\n",
              "      <td>1056.0</td>\n",
              "      <td>113.0</td>\n",
              "      <td>1692.0</td>\n",
              "      <td>1268.0</td>\n",
              "      <td>13,6</td>\n",
              "      <td>48,9</td>\n",
              "      <td>0,7578</td>\n",
              "    </tr>\n",
              "    <tr>\n",
              "      <th>1</th>\n",
              "      <td>10/03/2004</td>\n",
              "      <td>19.00.00</td>\n",
              "      <td>2</td>\n",
              "      <td>1292.0</td>\n",
              "      <td>112.0</td>\n",
              "      <td>9,4</td>\n",
              "      <td>955.0</td>\n",
              "      <td>103.0</td>\n",
              "      <td>1174.0</td>\n",
              "      <td>92.0</td>\n",
              "      <td>1559.0</td>\n",
              "      <td>972.0</td>\n",
              "      <td>13,3</td>\n",
              "      <td>47,7</td>\n",
              "      <td>0,7255</td>\n",
              "    </tr>\n",
              "    <tr>\n",
              "      <th>2</th>\n",
              "      <td>10/03/2004</td>\n",
              "      <td>20.00.00</td>\n",
              "      <td>2,2</td>\n",
              "      <td>1402.0</td>\n",
              "      <td>88.0</td>\n",
              "      <td>9,0</td>\n",
              "      <td>939.0</td>\n",
              "      <td>131.0</td>\n",
              "      <td>1140.0</td>\n",
              "      <td>114.0</td>\n",
              "      <td>1555.0</td>\n",
              "      <td>1074.0</td>\n",
              "      <td>11,9</td>\n",
              "      <td>54,0</td>\n",
              "      <td>0,7502</td>\n",
              "    </tr>\n",
              "    <tr>\n",
              "      <th>3</th>\n",
              "      <td>10/03/2004</td>\n",
              "      <td>21.00.00</td>\n",
              "      <td>2,2</td>\n",
              "      <td>1376.0</td>\n",
              "      <td>80.0</td>\n",
              "      <td>9,2</td>\n",
              "      <td>948.0</td>\n",
              "      <td>172.0</td>\n",
              "      <td>1092.0</td>\n",
              "      <td>122.0</td>\n",
              "      <td>1584.0</td>\n",
              "      <td>1203.0</td>\n",
              "      <td>11,0</td>\n",
              "      <td>60,0</td>\n",
              "      <td>0,7867</td>\n",
              "    </tr>\n",
              "    <tr>\n",
              "      <th>4</th>\n",
              "      <td>10/03/2004</td>\n",
              "      <td>22.00.00</td>\n",
              "      <td>1,6</td>\n",
              "      <td>1272.0</td>\n",
              "      <td>51.0</td>\n",
              "      <td>6,5</td>\n",
              "      <td>836.0</td>\n",
              "      <td>131.0</td>\n",
              "      <td>1205.0</td>\n",
              "      <td>116.0</td>\n",
              "      <td>1490.0</td>\n",
              "      <td>1110.0</td>\n",
              "      <td>11,2</td>\n",
              "      <td>59,6</td>\n",
              "      <td>0,7888</td>\n",
              "    </tr>\n",
              "    <tr>\n",
              "      <th>...</th>\n",
              "      <td>...</td>\n",
              "      <td>...</td>\n",
              "      <td>...</td>\n",
              "      <td>...</td>\n",
              "      <td>...</td>\n",
              "      <td>...</td>\n",
              "      <td>...</td>\n",
              "      <td>...</td>\n",
              "      <td>...</td>\n",
              "      <td>...</td>\n",
              "      <td>...</td>\n",
              "      <td>...</td>\n",
              "      <td>...</td>\n",
              "      <td>...</td>\n",
              "      <td>...</td>\n",
              "    </tr>\n",
              "    <tr>\n",
              "      <th>846</th>\n",
              "      <td>30/04/2004</td>\n",
              "      <td>20.00.00</td>\n",
              "      <td>4,4</td>\n",
              "      <td>1449.0</td>\n",
              "      <td>501.0</td>\n",
              "      <td>19,5</td>\n",
              "      <td>1282.0</td>\n",
              "      <td>254.0</td>\n",
              "      <td>625.0</td>\n",
              "      <td>133.0</td>\n",
              "      <td>2100.0</td>\n",
              "      <td>1569.0</td>\n",
              "      <td>19,1</td>\n",
              "      <td>61,1</td>\n",
              "      <td>1,3345</td>\n",
              "    </tr>\n",
              "    <tr>\n",
              "      <th>847</th>\n",
              "      <td>30/04/2004</td>\n",
              "      <td>21.00.00</td>\n",
              "      <td>3,1</td>\n",
              "      <td>1363.0</td>\n",
              "      <td>234.0</td>\n",
              "      <td>15,1</td>\n",
              "      <td>1152.0</td>\n",
              "      <td>189.0</td>\n",
              "      <td>684.0</td>\n",
              "      <td>110.0</td>\n",
              "      <td>1951.0</td>\n",
              "      <td>1495.0</td>\n",
              "      <td>18,2</td>\n",
              "      <td>65,4</td>\n",
              "      <td>1,3529</td>\n",
              "    </tr>\n",
              "    <tr>\n",
              "      <th>848</th>\n",
              "      <td>30/04/2004</td>\n",
              "      <td>22.00.00</td>\n",
              "      <td>3</td>\n",
              "      <td>1371.0</td>\n",
              "      <td>212.0</td>\n",
              "      <td>14,6</td>\n",
              "      <td>1136.0</td>\n",
              "      <td>174.0</td>\n",
              "      <td>689.0</td>\n",
              "      <td>102.0</td>\n",
              "      <td>1927.0</td>\n",
              "      <td>1471.0</td>\n",
              "      <td>18,1</td>\n",
              "      <td>66,1</td>\n",
              "      <td>1,3579</td>\n",
              "    </tr>\n",
              "    <tr>\n",
              "      <th>849</th>\n",
              "      <td>30/04/2004</td>\n",
              "      <td>23.00.00</td>\n",
              "      <td>3,1</td>\n",
              "      <td>1406.0</td>\n",
              "      <td>275.0</td>\n",
              "      <td>13,7</td>\n",
              "      <td>1107.0</td>\n",
              "      <td>167.0</td>\n",
              "      <td>718.0</td>\n",
              "      <td>108.0</td>\n",
              "      <td>1872.0</td>\n",
              "      <td>1384.0</td>\n",
              "      <td>17,7</td>\n",
              "      <td>66,9</td>\n",
              "      <td>1,3422</td>\n",
              "    </tr>\n",
              "    <tr>\n",
              "      <th>850</th>\n",
              "      <td>01/05/2004</td>\n",
              "      <td>00.00.00</td>\n",
              "      <td>3,5</td>\n",
              "      <td>1425.0</td>\n",
              "      <td>275.0</td>\n",
              "      <td>15,2</td>\n",
              "      <td>1155.0</td>\n",
              "      <td>185.0</td>\n",
              "      <td>709.0</td>\n",
              "      <td>110.0</td>\n",
              "      <td>1936.0</td>\n",
              "      <td>1789.0</td>\n",
              "      <td>17,8</td>\n",
              "      <td>66,8</td>\n",
              "      <td>1,3460</td>\n",
              "    </tr>\n",
              "  </tbody>\n",
              "</table>\n",
              "<p>851 rows × 15 columns</p>\n",
              "</div>\n",
              "      <button class=\"colab-df-convert\" onclick=\"convertToInteractive('df-99178e23-23f8-408e-a138-70b5f1f7ac21')\"\n",
              "              title=\"Convert this dataframe to an interactive table.\"\n",
              "              style=\"display:none;\">\n",
              "        \n",
              "  <svg xmlns=\"http://www.w3.org/2000/svg\" height=\"24px\"viewBox=\"0 0 24 24\"\n",
              "       width=\"24px\">\n",
              "    <path d=\"M0 0h24v24H0V0z\" fill=\"none\"/>\n",
              "    <path d=\"M18.56 5.44l.94 2.06.94-2.06 2.06-.94-2.06-.94-.94-2.06-.94 2.06-2.06.94zm-11 1L8.5 8.5l.94-2.06 2.06-.94-2.06-.94L8.5 2.5l-.94 2.06-2.06.94zm10 10l.94 2.06.94-2.06 2.06-.94-2.06-.94-.94-2.06-.94 2.06-2.06.94z\"/><path d=\"M17.41 7.96l-1.37-1.37c-.4-.4-.92-.59-1.43-.59-.52 0-1.04.2-1.43.59L10.3 9.45l-7.72 7.72c-.78.78-.78 2.05 0 2.83L4 21.41c.39.39.9.59 1.41.59.51 0 1.02-.2 1.41-.59l7.78-7.78 2.81-2.81c.8-.78.8-2.07 0-2.86zM5.41 20L4 18.59l7.72-7.72 1.47 1.35L5.41 20z\"/>\n",
              "  </svg>\n",
              "      </button>\n",
              "      \n",
              "  <style>\n",
              "    .colab-df-container {\n",
              "      display:flex;\n",
              "      flex-wrap:wrap;\n",
              "      gap: 12px;\n",
              "    }\n",
              "\n",
              "    .colab-df-convert {\n",
              "      background-color: #E8F0FE;\n",
              "      border: none;\n",
              "      border-radius: 50%;\n",
              "      cursor: pointer;\n",
              "      display: none;\n",
              "      fill: #1967D2;\n",
              "      height: 32px;\n",
              "      padding: 0 0 0 0;\n",
              "      width: 32px;\n",
              "    }\n",
              "\n",
              "    .colab-df-convert:hover {\n",
              "      background-color: #E2EBFA;\n",
              "      box-shadow: 0px 1px 2px rgba(60, 64, 67, 0.3), 0px 1px 3px 1px rgba(60, 64, 67, 0.15);\n",
              "      fill: #174EA6;\n",
              "    }\n",
              "\n",
              "    [theme=dark] .colab-df-convert {\n",
              "      background-color: #3B4455;\n",
              "      fill: #D2E3FC;\n",
              "    }\n",
              "\n",
              "    [theme=dark] .colab-df-convert:hover {\n",
              "      background-color: #434B5C;\n",
              "      box-shadow: 0px 1px 3px 1px rgba(0, 0, 0, 0.15);\n",
              "      filter: drop-shadow(0px 1px 2px rgba(0, 0, 0, 0.3));\n",
              "      fill: #FFFFFF;\n",
              "    }\n",
              "  </style>\n",
              "\n",
              "      <script>\n",
              "        const buttonEl =\n",
              "          document.querySelector('#df-99178e23-23f8-408e-a138-70b5f1f7ac21 button.colab-df-convert');\n",
              "        buttonEl.style.display =\n",
              "          google.colab.kernel.accessAllowed ? 'block' : 'none';\n",
              "\n",
              "        async function convertToInteractive(key) {\n",
              "          const element = document.querySelector('#df-99178e23-23f8-408e-a138-70b5f1f7ac21');\n",
              "          const dataTable =\n",
              "            await google.colab.kernel.invokeFunction('convertToInteractive',\n",
              "                                                     [key], {});\n",
              "          if (!dataTable) return;\n",
              "\n",
              "          const docLinkHtml = 'Like what you see? Visit the ' +\n",
              "            '<a target=\"_blank\" href=https://colab.research.google.com/notebooks/data_table.ipynb>data table notebook</a>'\n",
              "            + ' to learn more about interactive tables.';\n",
              "          element.innerHTML = '';\n",
              "          dataTable['output_type'] = 'display_data';\n",
              "          await google.colab.output.renderOutput(dataTable, element);\n",
              "          const docLink = document.createElement('div');\n",
              "          docLink.innerHTML = docLinkHtml;\n",
              "          element.appendChild(docLink);\n",
              "        }\n",
              "      </script>\n",
              "    </div>\n",
              "  </div>\n",
              "  "
            ]
          },
          "metadata": {},
          "execution_count": 11
        }
      ]
    },
    {
      "cell_type": "code",
      "source": [
        "corrmat = clean_air.corr()\n",
        "top_corr_feature = corrmat.index\n",
        "plt.figure(figsize=(15,10))\n",
        "plt.title('Co-relation', fontsize=25)\n",
        "# to plot heat map\n",
        "g=sns.heatmap(air[top_corr_feature].corr(),annot=True,cmap='viridis')"
      ],
      "metadata": {
        "colab": {
          "base_uri": "https://localhost:8080/",
          "height": 616
        },
        "id": "yF8SfzYfL8d8",
        "outputId": "92eed060-9631-4c9d-e3e0-a70dac3ab840"
      },
      "execution_count": null,
      "outputs": [
        {
          "output_type": "display_data",
          "data": {
            "text/plain": [
              "<Figure size 1080x720 with 2 Axes>"
            ],
            "image/png": "[encoded data removed]"
          },
          "metadata": {
            "needs_background": "light"
          }
        }
      ]
    },
    {
      "cell_type": "code",
      "source": [
        "clean_air.dtypes"
      ],
      "metadata": {
        "colab": {
          "base_uri": "https://localhost:8080/"
        },
        "id": "yrOFwmTPMjet",
        "outputId": "5fad7f1f-66fa-4e38-cc29-0fa800d16a23"
      },
      "execution_count": null,
      "outputs": [
        {
          "output_type": "execute_result",
          "data": {
            "text/plain": [
              "Date              object\n",
              "Time              object\n",
              "CO(GT)            object\n",
              "PT08.S1(CO)      float64\n",
              "NMHC(GT)         float64\n",
              "C6H6(GT)          object\n",
              "PT08.S2(NMHC)    float64\n",
              "NOx(GT)          float64\n",
              "PT08.S3(NOx)     float64\n",
              "NO2(GT)          float64\n",
              "PT08.S4(NO2)     float64\n",
              "PT08.S5(O3)      float64\n",
              "T                 object\n",
              "RH                object\n",
              "AH                object\n",
              "dtype: object"
            ]
          },
          "metadata": {},
          "execution_count": 13
        }
      ]
    },
    {
      "cell_type": "code",
      "source": [
        "#Cambiar comas por puntos\n",
        "\n",
        "clean_air[\"CO(GT)\"] = clean_air[\"CO(GT)\"].replace(',','.',regex=True)\n",
        "clean_air[\"C6H6(GT)\"] = clean_air[\"C6H6(GT)\"].replace(',','.',regex=True)\n",
        "clean_air[\"T\"] = clean_air[\"T\"].replace(',','.',regex=True)\n",
        "clean_air[\"RH\"] = clean_air[\"RH\"].replace(',','.',regex=True)\n",
        "clean_air[\"AH\"] = clean_air[\"AH\"].replace(',','.',regex=True)"
      ],
      "metadata": {
        "colab": {
          "base_uri": "https://localhost:8080/"
        },
        "id": "6r9iAmj4eRRw",
        "outputId": "c7a72020-4cad-479b-bfdb-a7e6d60610bf"
      },
      "execution_count": null,
      "outputs": [
        {
          "output_type": "stream",
          "name": "stderr",
          "text": [
            "/usr/local/lib/python3.7/dist-packages/ipykernel_launcher.py:3: SettingWithCopyWarning: \n",
            "A value is trying to be set on a copy of a slice from a DataFrame.\n",
            "Try using .loc[row_indexer,col_indexer] = value instead\n",
            "\n",
            "See the caveats in the documentation: https://pandas.pydata.org/pandas-docs/stable/user_guide/indexing.html#returning-a-view-versus-a-copy\n",
            "  This is separate from the ipykernel package so we can avoid doing imports until\n",
            "/usr/local/lib/python3.7/dist-packages/ipykernel_launcher.py:4: SettingWithCopyWarning: \n",
            "A value is trying to be set on a copy of a slice from a DataFrame.\n",
            "Try using .loc[row_indexer,col_indexer] = value instead\n",
            "\n",
            "See the caveats in the documentation: https://pandas.pydata.org/pandas-docs/stable/user_guide/indexing.html#returning-a-view-versus-a-copy\n",
            "  after removing the cwd from sys.path.\n",
            "/usr/local/lib/python3.7/dist-packages/ipykernel_launcher.py:5: SettingWithCopyWarning: \n",
            "A value is trying to be set on a copy of a slice from a DataFrame.\n",
            "Try using .loc[row_indexer,col_indexer] = value instead\n",
            "\n",
            "See the caveats in the documentation: https://pandas.pydata.org/pandas-docs/stable/user_guide/indexing.html#returning-a-view-versus-a-copy\n",
            "  \"\"\"\n",
            "/usr/local/lib/python3.7/dist-packages/ipykernel_launcher.py:6: SettingWithCopyWarning: \n",
            "A value is trying to be set on a copy of a slice from a DataFrame.\n",
            "Try using .loc[row_indexer,col_indexer] = value instead\n",
            "\n",
            "See the caveats in the documentation: https://pandas.pydata.org/pandas-docs/stable/user_guide/indexing.html#returning-a-view-versus-a-copy\n",
            "  \n",
            "/usr/local/lib/python3.7/dist-packages/ipykernel_launcher.py:7: SettingWithCopyWarning: \n",
            "A value is trying to be set on a copy of a slice from a DataFrame.\n",
            "Try using .loc[row_indexer,col_indexer] = value instead\n",
            "\n",
            "See the caveats in the documentation: https://pandas.pydata.org/pandas-docs/stable/user_guide/indexing.html#returning-a-view-versus-a-copy\n",
            "  import sys\n"
          ]
        }
      ]
    },
    {
      "cell_type": "code",
      "source": [
        "#Convertimos todo a flotante\n",
        "\n",
        "clean_air[\"CO(GT)\"] = clean_air[\"CO(GT)\"].astype('float64')\n",
        "clean_air[\"C6H6(GT)\"] = clean_air[\"C6H6(GT)\"].astype('float64')\n",
        "clean_air[\"T\"] = clean_air[\"T\"].astype('float64')\n",
        "clean_air[\"RH\"] = clean_air[\"RH\"].astype('float64')\n",
        "clean_air[\"AH\"] = clean_air[\"AH\"].astype('float64')"
      ],
      "metadata": {
        "colab": {
          "base_uri": "https://localhost:8080/"
        },
        "id": "IUAyJQztZ4Y2",
        "outputId": "b7ca73e8-2f1d-4697-bcea-e1eb3548855e"
      },
      "execution_count": null,
      "outputs": [
        {
          "output_type": "stream",
          "name": "stderr",
          "text": [
            "/usr/local/lib/python3.7/dist-packages/ipykernel_launcher.py:3: SettingWithCopyWarning: \n",
            "A value is trying to be set on a copy of a slice from a DataFrame.\n",
            "Try using .loc[row_indexer,col_indexer] = value instead\n",
            "\n",
            "See the caveats in the documentation: https://pandas.pydata.org/pandas-docs/stable/user_guide/indexing.html#returning-a-view-versus-a-copy\n",
            "  This is separate from the ipykernel package so we can avoid doing imports until\n",
            "/usr/local/lib/python3.7/dist-packages/ipykernel_launcher.py:4: SettingWithCopyWarning: \n",
            "A value is trying to be set on a copy of a slice from a DataFrame.\n",
            "Try using .loc[row_indexer,col_indexer] = value instead\n",
            "\n",
            "See the caveats in the documentation: https://pandas.pydata.org/pandas-docs/stable/user_guide/indexing.html#returning-a-view-versus-a-copy\n",
            "  after removing the cwd from sys.path.\n",
            "/usr/local/lib/python3.7/dist-packages/ipykernel_launcher.py:5: SettingWithCopyWarning: \n",
            "A value is trying to be set on a copy of a slice from a DataFrame.\n",
            "Try using .loc[row_indexer,col_indexer] = value instead\n",
            "\n",
            "See the caveats in the documentation: https://pandas.pydata.org/pandas-docs/stable/user_guide/indexing.html#returning-a-view-versus-a-copy\n",
            "  \"\"\"\n",
            "/usr/local/lib/python3.7/dist-packages/ipykernel_launcher.py:6: SettingWithCopyWarning: \n",
            "A value is trying to be set on a copy of a slice from a DataFrame.\n",
            "Try using .loc[row_indexer,col_indexer] = value instead\n",
            "\n",
            "See the caveats in the documentation: https://pandas.pydata.org/pandas-docs/stable/user_guide/indexing.html#returning-a-view-versus-a-copy\n",
            "  \n",
            "/usr/local/lib/python3.7/dist-packages/ipykernel_launcher.py:7: SettingWithCopyWarning: \n",
            "A value is trying to be set on a copy of a slice from a DataFrame.\n",
            "Try using .loc[row_indexer,col_indexer] = value instead\n",
            "\n",
            "See the caveats in the documentation: https://pandas.pydata.org/pandas-docs/stable/user_guide/indexing.html#returning-a-view-versus-a-copy\n",
            "  import sys\n"
          ]
        }
      ]
    },
    {
      "cell_type": "code",
      "source": [
        "clean_air.dtypes"
      ],
      "metadata": {
        "colab": {
          "base_uri": "https://localhost:8080/"
        },
        "id": "14qTb8pZiOje",
        "outputId": "4c2658c8-f52c-44db-b08e-7968ff38e56c"
      },
      "execution_count": null,
      "outputs": [
        {
          "output_type": "execute_result",
          "data": {
            "text/plain": [
              "Date              object\n",
              "Time              object\n",
              "CO(GT)           float64\n",
              "PT08.S1(CO)      float64\n",
              "NMHC(GT)         float64\n",
              "C6H6(GT)         float64\n",
              "PT08.S2(NMHC)    float64\n",
              "NOx(GT)          float64\n",
              "PT08.S3(NOx)     float64\n",
              "NO2(GT)          float64\n",
              "PT08.S4(NO2)     float64\n",
              "PT08.S5(O3)      float64\n",
              "T                float64\n",
              "RH               float64\n",
              "AH               float64\n",
              "dtype: object"
            ]
          },
          "metadata": {},
          "execution_count": 16
        }
      ]
    },
    {
      "cell_type": "code",
      "source": [
        "# Definimos X y Y\n",
        "\n",
        "X = clean_air[['NMHC(GT)','C6H6(GT)','NOx(GT)','NO2(GT)', 'RH']]\n",
        "y = clean_air[['CO(GT)']]\n"
      ],
      "metadata": {
        "id": "5rliaoRu1GBl"
      },
      "execution_count": null,
      "outputs": []
    },
    {
      "cell_type": "code",
      "source": [
        "#Creamos categorías en base al CO(GT)\n",
        "\n",
        "def classification(n):\n",
        "    if(n > 0 and n <= 2.5):\n",
        "        return 0\n",
        "    elif(n > 2.5 and n <= 5):\n",
        "        return 1\n",
        "    else:\n",
        "        return 2\n",
        "        \n",
        "y_array = []\n",
        "\n",
        "for i  in y.index:\n",
        "    y_array.append(classification(y['CO(GT)'][i]))\n",
        "\n",
        "Y = pd.DataFrame(y_array)"
      ],
      "metadata": {
        "id": "qgYOFR6g6RAT"
      },
      "execution_count": null,
      "outputs": []
    },
    {
      "cell_type": "code",
      "source": [
        "Y.value_counts()"
      ],
      "metadata": {
        "colab": {
          "base_uri": "https://localhost:8080/"
        },
        "id": "dlqzg27y9hz-",
        "outputId": "b98b3174-5af7-4b9b-a68f-37d5f6fe3c85"
      },
      "execution_count": null,
      "outputs": [
        {
          "output_type": "execute_result",
          "data": {
            "text/plain": [
              "0    507\n",
              "1    277\n",
              "2     67\n",
              "dtype: int64"
            ]
          },
          "metadata": {},
          "execution_count": 19
        }
      ]
    },
    {
      "cell_type": "markdown",
      "source": [
        "### **NEURAL NETWORK**"
      ],
      "metadata": {
        "id": "p2m-ckhfSfKZ"
      }
    },
    {
      "cell_type": "code",
      "source": [
        "# Entrenamiento\n",
        "\n",
        "x_train, x_test, y_train, y_test = train_test_split(\n",
        "                                        X,\n",
        "                                        Y,\n",
        "                                        train_size   = 0.7\n",
        "                                    )   "
      ],
      "metadata": {
        "id": "0ly9bgq69irM"
      },
      "execution_count": null,
      "outputs": []
    },
    {
      "cell_type": "code",
      "source": [
        "clf = MLPClassifier()\n",
        "clf.get_params()"
      ],
      "metadata": {
        "id": "mRytJ0PoI1c0",
        "colab": {
          "base_uri": "https://localhost:8080/"
        },
        "outputId": "dae47d6d-eec4-4043-ee7b-3c207d04d69d"
      },
      "execution_count": null,
      "outputs": [
        {
          "output_type": "execute_result",
          "data": {
            "text/plain": [
              "{'activation': 'relu',\n",
              " 'alpha': 0.0001,\n",
              " 'batch_size': 'auto',\n",
              " 'beta_1': 0.9,\n",
              " 'beta_2': 0.999,\n",
              " 'early_stopping': False,\n",
              " 'epsilon': 1e-08,\n",
              " 'hidden_layer_sizes': (100,),\n",
              " 'learning_rate': 'constant',\n",
              " 'learning_rate_init': 0.001,\n",
              " 'max_fun': 15000,\n",
              " 'max_iter': 200,\n",
              " 'momentum': 0.9,\n",
              " 'n_iter_no_change': 10,\n",
              " 'nesterovs_momentum': True,\n",
              " 'power_t': 0.5,\n",
              " 'random_state': None,\n",
              " 'shuffle': True,\n",
              " 'solver': 'adam',\n",
              " 'tol': 0.0001,\n",
              " 'validation_fraction': 0.1,\n",
              " 'verbose': False,\n",
              " 'warm_start': False}"
            ]
          },
          "metadata": {},
          "execution_count": 21
        }
      ]
    },
    {
      "cell_type": "code",
      "source": [
        "# Mejora de hiperparámetros\n",
        "\n",
        "parametros = {\n",
        "\"hidden_layer_sizes\":((10,),(5,2),(100,),(3,2)),\n",
        "\"activation\":(\"identity\",\"relu\",\"logistic\"),\n",
        "\"solver\":(\"sgd\",\"adam\"),\n",
        "\"learning_rate\":(\"constant\",\"adaptive\"),\n",
        "\"max_iter\":(800,1000,1200)\n",
        "}"
      ],
      "metadata": {
        "id": "SoTwXckmQQoL"
      },
      "execution_count": null,
      "outputs": []
    },
    {
      "cell_type": "code",
      "source": [
        "from sklearn.model_selection import GridSearchCV\n",
        "\n",
        "rejilla = GridSearchCV(clf,parametros,scoring=\"accuracy\")\n",
        "rejilla.fit(X,Y.values.ravel())"
      ],
      "metadata": {
        "colab": {
          "base_uri": "https://localhost:8080/"
        },
        "id": "vSkSZhPWS9t9",
        "outputId": "ebf5fb0d-9aef-43f5-c68c-c17c3cd9407c"
      },
      "execution_count": null,
      "outputs": [
        {
          "output_type": "stream",
          "name": "stderr",
          "text": [
            "/usr/local/lib/python3.7/dist-packages/sklearn/neural_network/_multilayer_perceptron.py:696: ConvergenceWarning: Stochastic Optimizer: Maximum iterations (1000) reached and the optimization hasn't converged yet.\n",
            "  ConvergenceWarning,\n",
            "/usr/local/lib/python3.7/dist-packages/sklearn/neural_network/_multilayer_perceptron.py:696: ConvergenceWarning: Stochastic Optimizer: Maximum iterations (800) reached and the optimization hasn't converged yet.\n",
            "  ConvergenceWarning,\n",
            "/usr/local/lib/python3.7/dist-packages/sklearn/neural_network/_multilayer_perceptron.py:696: ConvergenceWarning: Stochastic Optimizer: Maximum iterations (800) reached and the optimization hasn't converged yet.\n",
            "  ConvergenceWarning,\n",
            "/usr/local/lib/python3.7/dist-packages/sklearn/neural_network/_multilayer_perceptron.py:696: ConvergenceWarning: Stochastic Optimizer: Maximum iterations (1000) reached and the optimization hasn't converged yet.\n",
            "  ConvergenceWarning,\n",
            "/usr/local/lib/python3.7/dist-packages/sklearn/neural_network/_multilayer_perceptron.py:696: ConvergenceWarning: Stochastic Optimizer: Maximum iterations (800) reached and the optimization hasn't converged yet.\n",
            "  ConvergenceWarning,\n",
            "/usr/local/lib/python3.7/dist-packages/sklearn/neural_network/_multilayer_perceptron.py:696: ConvergenceWarning: Stochastic Optimizer: Maximum iterations (800) reached and the optimization hasn't converged yet.\n",
            "  ConvergenceWarning,\n",
            "/usr/local/lib/python3.7/dist-packages/sklearn/neural_network/_multilayer_perceptron.py:696: ConvergenceWarning: Stochastic Optimizer: Maximum iterations (800) reached and the optimization hasn't converged yet.\n",
            "  ConvergenceWarning,\n",
            "/usr/local/lib/python3.7/dist-packages/sklearn/neural_network/_multilayer_perceptron.py:696: ConvergenceWarning: Stochastic Optimizer: Maximum iterations (800) reached and the optimization hasn't converged yet.\n",
            "  ConvergenceWarning,\n",
            "/usr/local/lib/python3.7/dist-packages/sklearn/neural_network/_multilayer_perceptron.py:696: ConvergenceWarning: Stochastic Optimizer: Maximum iterations (800) reached and the optimization hasn't converged yet.\n",
            "  ConvergenceWarning,\n",
            "/usr/local/lib/python3.7/dist-packages/sklearn/neural_network/_multilayer_perceptron.py:696: ConvergenceWarning: Stochastic Optimizer: Maximum iterations (1000) reached and the optimization hasn't converged yet.\n",
            "  ConvergenceWarning,\n",
            "/usr/local/lib/python3.7/dist-packages/sklearn/neural_network/_multilayer_perceptron.py:696: ConvergenceWarning: Stochastic Optimizer: Maximum iterations (800) reached and the optimization hasn't converged yet.\n",
            "  ConvergenceWarning,\n",
            "/usr/local/lib/python3.7/dist-packages/sklearn/neural_network/_multilayer_perceptron.py:696: ConvergenceWarning: Stochastic Optimizer: Maximum iterations (800) reached and the optimization hasn't converged yet.\n",
            "  ConvergenceWarning,\n",
            "/usr/local/lib/python3.7/dist-packages/sklearn/neural_network/_multilayer_perceptron.py:696: ConvergenceWarning: Stochastic Optimizer: Maximum iterations (800) reached and the optimization hasn't converged yet.\n",
            "  ConvergenceWarning,\n",
            "/usr/local/lib/python3.7/dist-packages/sklearn/neural_network/_multilayer_perceptron.py:696: ConvergenceWarning: Stochastic Optimizer: Maximum iterations (800) reached and the optimization hasn't converged yet.\n",
            "  ConvergenceWarning,\n",
            "/usr/local/lib/python3.7/dist-packages/sklearn/neural_network/_multilayer_perceptron.py:696: ConvergenceWarning: Stochastic Optimizer: Maximum iterations (1000) reached and the optimization hasn't converged yet.\n",
            "  ConvergenceWarning,\n",
            "/usr/local/lib/python3.7/dist-packages/sklearn/neural_network/_multilayer_perceptron.py:696: ConvergenceWarning: Stochastic Optimizer: Maximum iterations (800) reached and the optimization hasn't converged yet.\n",
            "  ConvergenceWarning,\n",
            "/usr/local/lib/python3.7/dist-packages/sklearn/neural_network/_multilayer_perceptron.py:696: ConvergenceWarning: Stochastic Optimizer: Maximum iterations (800) reached and the optimization hasn't converged yet.\n",
            "  ConvergenceWarning,\n",
            "/usr/local/lib/python3.7/dist-packages/sklearn/neural_network/_multilayer_perceptron.py:696: ConvergenceWarning: Stochastic Optimizer: Maximum iterations (800) reached and the optimization hasn't converged yet.\n",
            "  ConvergenceWarning,\n",
            "/usr/local/lib/python3.7/dist-packages/sklearn/neural_network/_multilayer_perceptron.py:696: ConvergenceWarning: Stochastic Optimizer: Maximum iterations (800) reached and the optimization hasn't converged yet.\n",
            "  ConvergenceWarning,\n",
            "/usr/local/lib/python3.7/dist-packages/sklearn/neural_network/_multilayer_perceptron.py:696: ConvergenceWarning: Stochastic Optimizer: Maximum iterations (1000) reached and the optimization hasn't converged yet.\n",
            "  ConvergenceWarning,\n",
            "/usr/local/lib/python3.7/dist-packages/sklearn/neural_network/_multilayer_perceptron.py:696: ConvergenceWarning: Stochastic Optimizer: Maximum iterations (800) reached and the optimization hasn't converged yet.\n",
            "  ConvergenceWarning,\n",
            "/usr/local/lib/python3.7/dist-packages/sklearn/neural_network/_multilayer_perceptron.py:696: ConvergenceWarning: Stochastic Optimizer: Maximum iterations (1000) reached and the optimization hasn't converged yet.\n",
            "  ConvergenceWarning,\n",
            "/usr/local/lib/python3.7/dist-packages/sklearn/neural_network/_multilayer_perceptron.py:696: ConvergenceWarning: Stochastic Optimizer: Maximum iterations (800) reached and the optimization hasn't converged yet.\n",
            "  ConvergenceWarning,\n",
            "/usr/local/lib/python3.7/dist-packages/sklearn/neural_network/_multilayer_perceptron.py:696: ConvergenceWarning: Stochastic Optimizer: Maximum iterations (800) reached and the optimization hasn't converged yet.\n",
            "  ConvergenceWarning,\n",
            "/usr/local/lib/python3.7/dist-packages/sklearn/neural_network/_multilayer_perceptron.py:696: ConvergenceWarning: Stochastic Optimizer: Maximum iterations (800) reached and the optimization hasn't converged yet.\n",
            "  ConvergenceWarning,\n",
            "/usr/local/lib/python3.7/dist-packages/sklearn/neural_network/_multilayer_perceptron.py:696: ConvergenceWarning: Stochastic Optimizer: Maximum iterations (800) reached and the optimization hasn't converged yet.\n",
            "  ConvergenceWarning,\n",
            "/usr/local/lib/python3.7/dist-packages/sklearn/neural_network/_multilayer_perceptron.py:696: ConvergenceWarning: Stochastic Optimizer: Maximum iterations (800) reached and the optimization hasn't converged yet.\n",
            "  ConvergenceWarning,\n",
            "/usr/local/lib/python3.7/dist-packages/sklearn/neural_network/_multilayer_perceptron.py:696: ConvergenceWarning: Stochastic Optimizer: Maximum iterations (1000) reached and the optimization hasn't converged yet.\n",
            "  ConvergenceWarning,\n",
            "/usr/local/lib/python3.7/dist-packages/sklearn/neural_network/_multilayer_perceptron.py:696: ConvergenceWarning: Stochastic Optimizer: Maximum iterations (1000) reached and the optimization hasn't converged yet.\n",
            "  ConvergenceWarning,\n",
            "/usr/local/lib/python3.7/dist-packages/sklearn/neural_network/_multilayer_perceptron.py:696: ConvergenceWarning: Stochastic Optimizer: Maximum iterations (1200) reached and the optimization hasn't converged yet.\n",
            "  ConvergenceWarning,\n",
            "/usr/local/lib/python3.7/dist-packages/sklearn/neural_network/_multilayer_perceptron.py:696: ConvergenceWarning: Stochastic Optimizer: Maximum iterations (1200) reached and the optimization hasn't converged yet.\n",
            "  ConvergenceWarning,\n",
            "/usr/local/lib/python3.7/dist-packages/sklearn/neural_network/_multilayer_perceptron.py:696: ConvergenceWarning: Stochastic Optimizer: Maximum iterations (1200) reached and the optimization hasn't converged yet.\n",
            "  ConvergenceWarning,\n",
            "/usr/local/lib/python3.7/dist-packages/sklearn/neural_network/_multilayer_perceptron.py:696: ConvergenceWarning: Stochastic Optimizer: Maximum iterations (800) reached and the optimization hasn't converged yet.\n",
            "  ConvergenceWarning,\n",
            "/usr/local/lib/python3.7/dist-packages/sklearn/neural_network/_multilayer_perceptron.py:696: ConvergenceWarning: Stochastic Optimizer: Maximum iterations (800) reached and the optimization hasn't converged yet.\n",
            "  ConvergenceWarning,\n",
            "/usr/local/lib/python3.7/dist-packages/sklearn/neural_network/_multilayer_perceptron.py:696: ConvergenceWarning: Stochastic Optimizer: Maximum iterations (800) reached and the optimization hasn't converged yet.\n",
            "  ConvergenceWarning,\n",
            "/usr/local/lib/python3.7/dist-packages/sklearn/neural_network/_multilayer_perceptron.py:696: ConvergenceWarning: Stochastic Optimizer: Maximum iterations (1000) reached and the optimization hasn't converged yet.\n",
            "  ConvergenceWarning,\n",
            "/usr/local/lib/python3.7/dist-packages/sklearn/neural_network/_multilayer_perceptron.py:696: ConvergenceWarning: Stochastic Optimizer: Maximum iterations (1200) reached and the optimization hasn't converged yet.\n",
            "  ConvergenceWarning,\n",
            "/usr/local/lib/python3.7/dist-packages/sklearn/neural_network/_multilayer_perceptron.py:696: ConvergenceWarning: Stochastic Optimizer: Maximum iterations (1200) reached and the optimization hasn't converged yet.\n",
            "  ConvergenceWarning,\n",
            "/usr/local/lib/python3.7/dist-packages/sklearn/neural_network/_multilayer_perceptron.py:696: ConvergenceWarning: Stochastic Optimizer: Maximum iterations (800) reached and the optimization hasn't converged yet.\n",
            "  ConvergenceWarning,\n",
            "/usr/local/lib/python3.7/dist-packages/sklearn/neural_network/_multilayer_perceptron.py:696: ConvergenceWarning: Stochastic Optimizer: Maximum iterations (800) reached and the optimization hasn't converged yet.\n",
            "  ConvergenceWarning,\n",
            "/usr/local/lib/python3.7/dist-packages/sklearn/neural_network/_multilayer_perceptron.py:696: ConvergenceWarning: Stochastic Optimizer: Maximum iterations (800) reached and the optimization hasn't converged yet.\n",
            "  ConvergenceWarning,\n"
          ]
        },
        {
          "output_type": "execute_result",
          "data": {
            "text/plain": [
              "GridSearchCV(estimator=MLPClassifier(),\n",
              "             param_grid={'activation': ('identity', 'relu', 'logistic'),\n",
              "                         'hidden_layer_sizes': ((10,), (5, 2), (100,), (3, 2)),\n",
              "                         'learning_rate': ('constant', 'adaptive'),\n",
              "                         'max_iter': (800, 1000, 1200),\n",
              "                         'solver': ('sgd', 'adam')},\n",
              "             scoring='accuracy')"
            ]
          },
          "metadata": {},
          "execution_count": 23
        }
      ]
    },
    {
      "cell_type": "code",
      "source": [
        "print(\"Mejores parámetros:\", rejilla.best_params_)\n",
        "print(\"Mejor validación:\", rejilla.best_score_)"
      ],
      "metadata": {
        "colab": {
          "base_uri": "https://localhost:8080/"
        },
        "id": "b6fYMbXvXz_N",
        "outputId": "4afa62fa-cfeb-4c16-dd47-a3213d8308b6"
      },
      "execution_count": null,
      "outputs": [
        {
          "output_type": "stream",
          "name": "stdout",
          "text": [
            "Mejores parámetros: {'activation': 'logistic', 'hidden_layer_sizes': (100,), 'learning_rate': 'constant', 'max_iter': 800, 'solver': 'adam'}\n",
            "Mejor validación: 0.8637426900584796\n"
          ]
        }
      ]
    },
    {
      "cell_type": "code",
      "source": [
        "#Perceptrón\n",
        "\n",
        "clf = MLPClassifier(learning_rate= 'constant', max_iter=800, solver='adam', hidden_layer_sizes=(100,), activation='logistic').fit(x_train, y_train)"
      ],
      "metadata": {
        "colab": {
          "base_uri": "https://localhost:8080/"
        },
        "id": "vrFWGGhLYe9s",
        "outputId": "d6229acf-fd09-47a0-f04b-d84e634c85f8"
      },
      "execution_count": null,
      "outputs": [
        {
          "output_type": "stream",
          "name": "stderr",
          "text": [
            "/usr/local/lib/python3.7/dist-packages/sklearn/neural_network/_multilayer_perceptron.py:1109: DataConversionWarning: A column-vector y was passed when a 1d array was expected. Please change the shape of y to (n_samples, ), for example using ravel().\n",
            "  y = column_or_1d(y, warn=True)\n"
          ]
        }
      ]
    },
    {
      "cell_type": "code",
      "source": [
        "# Exactitud\n",
        "\n",
        "print(\"Accuracy\", clf.score(x_test, y_test))\n",
        "\n",
        "# Validación cruzada\n",
        "\n",
        "kf = KFold(n_splits=10)\n",
        "scores = cross_val_score(clf, X, Y.values.ravel(), cv = kf, scoring=\"accuracy\")\n",
        "print(\"Validación cruzada\", scores.mean())"
      ],
      "metadata": {
        "colab": {
          "base_uri": "https://localhost:8080/"
        },
        "id": "OE-fn3fBZUlb",
        "outputId": "cc340ea4-e6ce-4144-bd0b-ad96646ea6ad"
      },
      "execution_count": null,
      "outputs": [
        {
          "output_type": "stream",
          "name": "stdout",
          "text": [
            "Accuracy 0.90625\n",
            "Validación cruzada 0.8590834473324215\n"
          ]
        }
      ]
    },
    {
      "cell_type": "markdown",
      "source": [
        "### **Conclusión**:\n",
        "\n",
        "Se puede apreciar que se logró llegar a un puntaje de desempeño bastante alto, llegando a ser de más de 0.90 y también una validación cruzada de 0.859. \n",
        "\n",
        "En ambos casos, se superó el porcentaje mínimo, el cual era de 0.81; demostrando así que se pueden obtener buenos resultados usando solo una red neuronal y optimizando los parámetros de la misma, los cuales fueron en este caso los tamaños de la capa oculta, la función de activación, el solucionador, el horario de la tasa de aprendizaje y por último, la cantidad máxima de iteraciones."
      ],
      "metadata": {
        "id": "9T4of4idnYYb"
      }
    }
  ]
}